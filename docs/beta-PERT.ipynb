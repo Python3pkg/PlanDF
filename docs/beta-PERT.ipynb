{
 "cells": [
  {
   "cell_type": "markdown",
   "metadata": {},
   "source": [
    "# Sympy: Plan Risk (beta-PERT)"
   ]
  },
  {
   "cell_type": "markdown",
   "metadata": {},
   "source": [
    "On the Infinity Project, we have **Plans**, which are composed of **Steps** (step hierarchy). When a person builds a plan, one has an option to describe the investables and deliverables on each step, like:\n",
    "\n",
    "<hr>\n",
    "\n",
    "    plan_tuples = [\n",
    "     (Step[1].investables, Step[1].deliverables),\n",
    "     (Step[2].investables, Step[2].deliverables),\n",
    "     ...\n",
    "     (Step[N].investables, Step[N].deliverables)\n",
    "    ]\n",
    "\n",
    "<hr>\n",
    "\n",
    "We use syntax described by the following examples:\n",
    "\n",
    "**Step[M].investables**:\n",
    "\n",
    "    programmer person-days: 10~12@50usd; analyst person-days: 11~45@45usd; software package: 1@159.99usd\n",
    "\n",
    "**Step[M].deliverables**:\n",
    "\n",
    "    complete solar assembly drawings: 0~1; solar cell assemblies: 1~2[likely(1.8)]@5.5~5.9[likely(5.8)]h\n",
    "    \n",
    "We parse this using [StepIO](https://github.com/WeFindX/StepIO), so, for example:\n",
    "\n",
    "    solar cell assemblies: 1~2[likely(1.8)]@5.5~5.9[likely(5.8)]usd\n",
    "\n",
    "parses into:\n",
    "\n",
    " - ITEM='solar cell assemblies'\n",
    "     1. MIN_UNITS = 1\n",
    "     2. MAX_UNITS = 2\n",
    "     3. FORMULA_UNITS = 'likely(1.8)'\n",
    "     4. MIN_PRICE = 5.5\n",
    "     5. MAX_PRICE = 5.9\n",
    "     6. FORMULA_PRICE = 'likely(5.8)'\n",
    "     7. PRICE_UNIT = 'usd'\n",
    "\n",
    "The FORMULA____ is intended for probability distribution associated with quantity before the squre brackets, and allows flexible modelling of asset values based on our expected amount, and expected price of the value, since each can have a probability distribution associated.\n",
    "\n",
    "We initially plan to use the time-honored beta-PERT distribution. Since we don't want to use heavy library like **scipy**, let's look at how we could use **sympy** to get the formula, and compute distribution values."
   ]
  },
  {
   "cell_type": "markdown",
   "metadata": {},
   "source": [
    "# beta"
   ]
  },
  {
   "cell_type": "code",
   "execution_count": 1,
   "metadata": {
    "collapsed": true
   },
   "outputs": [],
   "source": [
    "import sympy"
   ]
  },
  {
   "cell_type": "code",
   "execution_count": 2,
   "metadata": {
    "collapsed": true
   },
   "outputs": [],
   "source": [
    "from sympy.stats import Beta, density\n",
    "from sympy import Symbol\n",
    "\n",
    "# α, β\n",
    "a = Symbol('α', positive=True)\n",
    "b = Symbol('β', positive=True)\n",
    "B = Beta('B', a, b)"
   ]
  },
  {
   "cell_type": "markdown",
   "metadata": {},
   "source": [
    "Let's get its general distribution (pdf) formula, and print specific parametrization:"
   ]
  },
  {
   "cell_type": "code",
   "execution_count": 3,
   "metadata": {
    "collapsed": false
   },
   "outputs": [
    {
     "data": {
      "text/plain": [
       "x**(α - 1)*(-x + 1)**(β - 1)/beta(α, β)"
      ]
     },
     "execution_count": 3,
     "metadata": {},
     "output_type": "execute_result"
    }
   ],
   "source": [
    "x = Symbol('x')\n",
    "beta_pdf = density(B)(x)\n",
    "beta_pdf"
   ]
  },
  {
   "cell_type": "code",
   "execution_count": 4,
   "metadata": {
    "collapsed": false
   },
   "outputs": [
    {
     "data": {
      "text/plain": [
       "x*(-x + 1)**4/beta(2, 5)"
      ]
     },
     "execution_count": 4,
     "metadata": {},
     "output_type": "execute_result"
    }
   ],
   "source": [
    "my_beta_pdf = beta_pdf.subs({a: 2, b: 5})\n",
    "my_beta_pdf"
   ]
  },
  {
   "cell_type": "markdown",
   "metadata": {},
   "source": [
    "Let's integrate to make sure it sums to unitary area."
   ]
  },
  {
   "cell_type": "code",
   "execution_count": 5,
   "metadata": {
    "collapsed": false
   },
   "outputs": [
    {
     "data": {
      "text/plain": [
       "1.00000000000000"
      ]
     },
     "execution_count": 5,
     "metadata": {},
     "output_type": "execute_result"
    }
   ],
   "source": [
    "from sympy import Integral\n",
    "\n",
    "Integral(my_beta_pdf, (x,0,1)).doit().n()"
   ]
  },
  {
   "cell_type": "markdown",
   "metadata": {},
   "source": [
    "Plot it:"
   ]
  },
  {
   "cell_type": "code",
   "execution_count": 6,
   "metadata": {
    "collapsed": false
   },
   "outputs": [
    {
     "data": {
      "image/png": "[encoded data removed]",
      "text/plain": [
       "<matplotlib.figure.Figure at 0x7f4c74d7abd0>"
      ]
     },
     "metadata": {},
     "output_type": "display_data"
    }
   ],
   "source": [
    "%matplotlib inline\n",
    "from sympy import plot\n",
    "\n",
    "plot(my_beta_pdf, xlim=[0, 1], ylim=[0,5]);"
   ]
  },
  {
   "cell_type": "markdown",
   "metadata": {},
   "source": [
    "It does look coorect. We can play with parameters."
   ]
  },
  {
   "cell_type": "code",
   "execution_count": 7,
   "metadata": {
    "collapsed": false
   },
   "outputs": [
    {
     "data": {
      "image/png": "[encoded data removed]",
      "text/plain": [
       "<matplotlib.figure.Figure at 0x7f4c7497eb50>"
      ]
     },
     "metadata": {},
     "output_type": "display_data"
    }
   ],
   "source": [
    "plot(beta_pdf.subs({a: 4, b: 7}), xlim=[0, 1], ylim=[0,3]);"
   ]
  },
  {
   "cell_type": "code",
   "execution_count": 8,
   "metadata": {
    "collapsed": true
   },
   "outputs": [],
   "source": [
    "# FYI: from sympy.stats import Normal\n",
    "#      Z = Normal('Z', 0, 1)\n",
    "#      density(Z)(x)"
   ]
  },
  {
   "cell_type": "markdown",
   "metadata": {},
   "source": [
    "More SymPy distributions [here](http://docs.sympy.org/latest/modules/stats.html)."
   ]
  },
  {
   "cell_type": "markdown",
   "metadata": {},
   "source": [
    "# PERT\n",
    "\n",
    "**PERT** Stands for **P**rogram **E**valuation and **R**eview **T**echnique by Malcolm et al, 1959. It was initially known as the Program Evaluation and Review Task. The task to which this refers was assessing the uncertainty in the plans for the development schedule and cost for the [Polaris weapon system](https://en.wikipedia.org/wiki/UK_Polaris_programme) [[1](http://broadleaf.com.au/resource-material/beta-pert-origins/)]. However, over time, it had found its was into project planning in general.\n",
    "\n",
    "It provides a kind of heuristic to compute parameters $\\alpha$ and $\\beta$ for the Beta distribution, based on 3 pieces of information for every asset:\n",
    "\n",
    "- A -- the min amount\n",
    "- M -- the most likely amount\n",
    "- B -- the max amount\n",
    "\n",
    "As [we know](https://en.wikipedia.org/wiki/Beta_distribution), the [mean](https://en.wikipedia.org/wiki/Beta_distribution#Mean) of Beta distribution is $$Mean = \\frac{1}{1+\\frac{\\beta}{\\alpha}},$$ and [variance](https://en.wikipedia.org/wiki/Beta_distribution#Variance) is: $$Variance = \\frac{\\alpha \\beta}{(\\alpha+\\beta)^2(\\alpha+\\beta+1)}.$$"
   ]
  },
  {
   "cell_type": "code",
   "execution_count": 9,
   "metadata": {
    "collapsed": false
   },
   "outputs": [
    {
     "data": {
      "text/plain": [
       "('mean: ', 1/(α/β + 1), 'variance: ', α*β/((α + β)**2*(α + β + 1)))"
      ]
     },
     "execution_count": 9,
     "metadata": {},
     "output_type": "execute_result"
    }
   ],
   "source": [
    "mean = 1/(1+(a/b)); variance = (a*b)/((a+b)**2*(a+b+1))\n",
    "'mean: ', mean, 'variance: ', variance"
   ]
  },
  {
   "cell_type": "markdown",
   "metadata": {},
   "source": [
    "PERT gives a heuristic to compute the $\\mu$ and $\\sigma$, namely:\n",
    "\n",
    "$$\\mu = \\frac{A + 4M + B}{6}$$\n",
    "\n",
    "$$\\sigma = \\left( \\frac{B - A}{6} \\right)^2$$\n",
    "\n",
    "So, let's say that we know some specific interval, e.g., [A=0., B=1.], with most likely value is M=0.9. Then, according to PERT, we have:\n",
    "\n",
    "$$\\mu = \\frac{0. + (4 \\times 0.9) + 1.}{6} = 0.7666... $$\n",
    "\n",
    "$$\\sigma = \\left( \\frac{1. - 0.}{6} \\right)^2 = 0.0277...$$"
   ]
  },
  {
   "cell_type": "markdown",
   "metadata": {},
   "source": [
    "Based on that, we can solve the system of equations to find $\\alpha$, $\\beta$:"
   ]
  },
  {
   "cell_type": "code",
   "execution_count": 10,
   "metadata": {
    "collapsed": false
   },
   "outputs": [
    {
     "data": {
      "text/plain": [
       "(0.7666666666666666, 0.027777777777777776)"
      ]
     },
     "execution_count": 10,
     "metadata": {},
     "output_type": "execute_result"
    }
   ],
   "source": [
    "A = 0.\n",
    "M = 0.9\n",
    "B = 1.\n",
    "mu = (A+(4.*M)+B)/6.; sigma = ((A-B)/6.)**2; mu, sigma"
   ]
  },
  {
   "cell_type": "markdown",
   "metadata": {},
   "source": [
    "Solving them with hand by substitution, results in:\n",
    "\n",
    "$$Mean = \\frac{1}{1+\\frac{\\beta}{\\alpha}}$$\n",
    "<hr>\n",
    "$$ \\alpha = \\frac{ \\mu \\beta }{ 1 - \\mu }$$\n",
    "\n"
   ]
  },
  {
   "cell_type": "code",
   "execution_count": 11,
   "metadata": {
    "collapsed": false
   },
   "outputs": [
    {
     "data": {
      "text/plain": [
       "-β*μ/(μ - 1)"
      ]
     },
     "execution_count": 11,
     "metadata": {},
     "output_type": "execute_result"
    }
   ],
   "source": [
    "from sympy import Eq, solve\n",
    "miu = Symbol('μ')\n",
    "alpha = solve(Eq(1/(1+(b/a)), miu), a)[0]; alpha"
   ]
  },
  {
   "cell_type": "markdown",
   "metadata": {},
   "source": [
    "$$Variance = \\frac{\\alpha \\beta}{(\\alpha+\\beta)^2(\\alpha+\\beta+1)}$$\n",
    "\n",
    "<hr>\n",
    "\n",
    "$$\\sigma = \\frac{ \\frac{\\mu\\beta}{1-\\mu} \\beta}{( \\frac{\\mu\\beta}{1-\\mu} +\\beta)^2( \\frac{\\mu\\beta}{1-\\mu} +\\beta+1)}$$"
   ]
  },
  {
   "cell_type": "code",
   "execution_count": 12,
   "metadata": {
    "collapsed": false,
    "scrolled": true
   },
   "outputs": [
    {
     "data": {
      "text/plain": [
       "(μ - 1)*(μ**2 - μ + σ)/σ"
      ]
     },
     "execution_count": 12,
     "metadata": {},
     "output_type": "execute_result"
    }
   ],
   "source": [
    "sig = Symbol('σ')\n",
    "numerator = alpha*b\n",
    "denominator = (alpha + b)**2 * (alpha + b + 1)\n",
    "beta = solve(Eq((numerator/denominator), sig), b)[0]; beta"
   ]
  },
  {
   "cell_type": "markdown",
   "metadata": {},
   "source": [
    "Since $\\mu$ and $\\sigma$ as given by PERT, we can compute the $\\alpha$, $\\beta$:"
   ]
  },
  {
   "cell_type": "code",
   "execution_count": 13,
   "metadata": {
    "collapsed": false
   },
   "outputs": [
    {
     "data": {
      "text/plain": [
       "([α, 4.17066666666667], [β, 1.26933333333333])"
      ]
     },
     "execution_count": 13,
     "metadata": {},
     "output_type": "execute_result"
    }
   ],
   "source": [
    "be = beta.subs({sig: sigma, miu: mu}); al = alpha.subs({miu:mu,b:be});\n",
    "([a,al],[b,be])"
   ]
  },
  {
   "cell_type": "markdown",
   "metadata": {},
   "source": [
    "Having the values of Beta distribution, now we can try to plot it again."
   ]
  },
  {
   "cell_type": "code",
   "execution_count": 14,
   "metadata": {
    "collapsed": false
   },
   "outputs": [
    {
     "data": {
      "text/plain": [
       "x**(α - 1)*(-x + 1)**(β - 1)/beta(α, β)"
      ]
     },
     "execution_count": 14,
     "metadata": {},
     "output_type": "execute_result"
    }
   ],
   "source": [
    "beta_pdf"
   ]
  },
  {
   "cell_type": "code",
   "execution_count": 15,
   "metadata": {
    "collapsed": false
   },
   "outputs": [
    {
     "data": {
      "image/png": "[encoded data removed]",
      "text/plain": [
       "<matplotlib.figure.Figure at 0x7f4c746cf890>"
      ]
     },
     "metadata": {},
     "output_type": "display_data"
    }
   ],
   "source": [
    "plot(beta_pdf.subs({a: al, b: be}), xlim=[0, 1], ylim=[0,3]);"
   ]
  },
  {
   "cell_type": "code",
   "execution_count": 16,
   "metadata": {
    "collapsed": false
   },
   "outputs": [
    {
     "data": {
      "text/plain": [
       "7.05509556982414*x**3.17066666666667*(-x + 1)**0.269333333333333"
      ]
     },
     "execution_count": 16,
     "metadata": {},
     "output_type": "execute_result"
    }
   ],
   "source": [
    "beta_pdf.subs({a: al, b: be})"
   ]
  },
  {
   "cell_type": "markdown",
   "metadata": {},
   "source": [
    "It seem to work well, when $A < M < B$, and $A,M,B \\in [0, 1]$."
   ]
  },
  {
   "cell_type": "markdown",
   "metadata": {},
   "source": [
    "# betaPERT"
   ]
  },
  {
   "cell_type": "markdown",
   "metadata": {},
   "source": [
    "While PERT gives mean and variance to use with any distribution, if you would try the above with Beta distribution, you would get errors. To use PERT with Beta distribution for intervals other than $[0,1]$, we should need to normalize and shift data to unitary interval before computing PERT."
   ]
  },
  {
   "cell_type": "code",
   "execution_count": 17,
   "metadata": {
    "collapsed": false
   },
   "outputs": [
    {
     "name": "stdout",
     "output_type": "stream",
     "text": [
      "{'A': 0.0, 'B': 1.0, 'M': 0.7600000000000001}\n"
     ]
    },
    {
     "data": {
      "image/png": "[encoded data removed]",
      "text/plain": [
       "<matplotlib.figure.Figure at 0x7f4c74676e10>"
      ]
     },
     "metadata": {},
     "output_type": "display_data"
    },
    {
     "data": {
      "text/plain": [
       "37.3194769245855*x**3.65838933333333*(-x + 1)**1.26001066666667"
      ]
     },
     "execution_count": 17,
     "metadata": {},
     "output_type": "execute_result"
    }
   ],
   "source": [
    "from sympy import Symbol\n",
    "from sympy.stats import Beta, density\n",
    "\n",
    "miu = Symbol('μ')\n",
    "sig = Symbol('σ')\n",
    "a = Symbol('α', positive=True)\n",
    "b = Symbol('β', positive=True)\n",
    "B = Beta('B', a, b)\n",
    "x = Symbol('x')\n",
    "beta_pdf = density(B)(x)\n",
    "\n",
    "def pertBETA(A=0.,M=0.9,B=1., normalize=True):\n",
    "\n",
    "    def PERT(A=0.,M=0.9,B=1., normalize=False):\n",
    "        if normalize:\n",
    "            Max = max(A,M,B)\n",
    "            Min = min(A,M,B)\n",
    "            standardize = -(Min+Max)/2.\n",
    "            normalize = Max-Min\n",
    "            A = (float(A) + standardize)/normalize + 0.5\n",
    "            M = (float(M) + standardize)/normalize + 0.5\n",
    "            B = (float(B) + standardize)/normalize + 0.5\n",
    "            print {'A': A, 'M': M, 'B': B}\n",
    "        mean = (A+(4.*M)+B)/6.\n",
    "        variance = ((A-B)/6.)**2.\n",
    "        return {'mean': mean, 'variance': variance}\n",
    "\n",
    "    def beta_params(mean=0.766, variance=0.027):\n",
    "        alpha = -b*miu/(miu-1)\n",
    "        beta = (miu-1)*(miu**2-miu+sig)/sig\n",
    "        beta = beta.subs({miu:mean,sig:variance})\n",
    "        alpha = alpha.subs({miu:mean,b:beta})\n",
    "        return {a:alpha, b:beta}\n",
    "\n",
    "    def pert_beta(A=0.,M=0.9,B=1.):\n",
    "        return beta_pdf.subs(\n",
    "            beta_params(\n",
    "                **PERT(A,M,B, normalize)\n",
    "            )\n",
    "        )\n",
    "    \n",
    "    return pert_beta(A,M,B)\n",
    "\n",
    "%matplotlib inline\n",
    "from sympy import plot\n",
    "#dist = pertBETA(0.,0.1,1.)\n",
    "dist = pertBETA(10.,13.8,15.)\n",
    "plot(dist,xlim=[0,1],ylim=[0,3])\n",
    "dist"
   ]
  },
  {
   "cell_type": "markdown",
   "metadata": {},
   "source": [
    "This concludes the section about **PERT**, and **betaPERT**."
   ]
  },
  {
   "cell_type": "markdown",
   "metadata": {},
   "source": [
    "# probPERT\n",
    "\n",
    "While the **betaPERT** works well in most cases, what it lacks, is the ability to specify the exact probabilities associated with the extreme scenarios. However, sometimes, when the benefit or damage of an event is sufficiently large, you should take actions or bets regarding it, even if the chance of the event is small.\n",
    "\n",
    "However, when it comes to events with small likelihood, we want to assigne very specific probabilities to the extreme events. For example, probability of an asteroid of specific size hitting the Earth might be $0.0000000001314$, and we may want to include that. More precisely, we could have a specific number of such asteroids expected to fall on Earth, and very small probabilities associated with them, while very large probability associated with zero.\n",
    "\n",
    "Users may not really want to have to enter the probability of zero, but rather, several very small probabilities in the interval $[1,5]$, saying, that the probability that probability of $1$ asteroid is 0.0000000001314, and probability of $5$ is, say 0.00000000004514."
   ]
  },
  {
   "cell_type": "code",
   "execution_count": 18,
   "metadata": {
    "collapsed": false
   },
   "outputs": [
    {
     "data": {
      "image/png": "[encoded data removed]",
      "text/plain": [
       "<matplotlib.figure.Figure at 0x7f4c74664690>"
      ]
     },
     "metadata": {},
     "output_type": "display_data"
    }
   ],
   "source": [
    "x = Symbol('x')\n",
    "y_min = 0.00000000004514\n",
    "y_max = 0.0000000001314\n",
    "x_min = 1.\n",
    "x_max = 5.\n",
    "k = -(y_max-y_min)/(x_max-x_min)\n",
    "p = y_max+x*k\n",
    "plot(p, xlim=[x_min,x_max],ylim=[0.,3*y_max]);"
   ]
  },
  {
   "cell_type": "markdown",
   "metadata": {},
   "source": [
    "The integral of the **AUC** under this curve is merely $2.6682 \\times 10^{-10}$, the probability under it is very small."
   ]
  },
  {
   "cell_type": "code",
   "execution_count": 19,
   "metadata": {
    "collapsed": false
   },
   "outputs": [
    {
     "data": {
      "text/plain": [
       "2.66820000000000e-10"
      ]
     },
     "execution_count": 19,
     "metadata": {},
     "output_type": "execute_result"
    }
   ],
   "source": [
    "auc = Integral(p, (x,1,5)).doit().n(); auc"
   ]
  },
  {
   "cell_type": "markdown",
   "metadata": {},
   "source": [
    "What the person cares about, is this interval. So, we really don't want to draw full probability distribution associated with this interval. However, still, in this interval of unfortunate events, we might want to represent a reasonable skewness towards the more likely event.\n",
    "\n",
    "One way to do it would be to choose some most likely number M, as in **PERT**, add a distribution, and adjust it for endpoints to match the actual estimates.\n",
    "\n",
    "So, let's consider the mean (the most likely) to be close to the more likely end:"
   ]
  },
  {
   "cell_type": "code",
   "execution_count": 20,
   "metadata": {
    "collapsed": true
   },
   "outputs": [],
   "source": [
    "M = lambda A,B: B/(A+B)"
   ]
  },
  {
   "cell_type": "markdown",
   "metadata": {},
   "source": [
    "Here, if probability line is increasing, choose the value closer to one in [0,1] interval."
   ]
  },
  {
   "cell_type": "code",
   "execution_count": 21,
   "metadata": {
    "collapsed": false
   },
   "outputs": [
    {
     "name": "stdout",
     "output_type": "stream",
     "text": [
      "{'A': 0.0, 'B': 1.0, 'M': 0.17671089123753836}\n"
     ]
    },
    {
     "data": {
      "image/png": "[encoded data removed]",
      "text/plain": [
       "<matplotlib.figure.Figure at 0x7f4c7454b950>"
      ]
     },
     "metadata": {},
     "output_type": "display_data"
    }
   ],
   "source": [
    "most_likely = M(A=p.subs({x:x_min}),B=p.subs({x:x_max}))\n",
    "dist = pertBETA(0.,most_likely,1.)\n",
    "plot(dist,xlim=[0,1],ylim=[0,3]);"
   ]
  },
  {
   "cell_type": "markdown",
   "metadata": {},
   "source": [
    "Since the $AUC = 1$ here, we would probably like to multiply it by the mean of $(A+B)/2$ to bring it to scale:"
   ]
  },
  {
   "cell_type": "code",
   "execution_count": 22,
   "metadata": {
    "collapsed": false
   },
   "outputs": [
    {
     "data": {
      "text/plain": [
       "1.255514287648e-9*x**0.800078880390687*(-x + 1)**3.52766755409849"
      ]
     },
     "execution_count": 22,
     "metadata": {},
     "output_type": "execute_result"
    }
   ],
   "source": [
    "f = dist*(p.subs({x:x_min})+p.subs({x:x_max}))/2.; f"
   ]
  },
  {
   "cell_type": "code",
   "execution_count": 23,
   "metadata": {
    "collapsed": false
   },
   "outputs": [
    {
     "data": {
      "image/png": "[encoded data removed]",
      "text/plain": [
       "<matplotlib.figure.Figure at 0x7f4c7450c690>"
      ]
     },
     "metadata": {},
     "output_type": "display_data"
    }
   ],
   "source": [
    "plot(f, xlim=[0.,1.],ylim=[0.,3*y_max]);"
   ]
  },
  {
   "cell_type": "markdown",
   "metadata": {},
   "source": [
    "Now, the support of the distribution is obviously not the same. it is in $[0,1]$, rather than $[1, 5]$. We can can shift it as a function by transforming $x$:"
   ]
  },
  {
   "cell_type": "code",
   "execution_count": 24,
   "metadata": {
    "collapsed": false
   },
   "outputs": [],
   "source": [
    "tf = lambda f: f*(p.subs({x:x_min})+p.subs({x:x_max}))/2\n",
    "tx = lambda x: (x-x_min)/(x_max-x_min)"
   ]
  },
  {
   "cell_type": "code",
   "execution_count": 25,
   "metadata": {
    "collapsed": false
   },
   "outputs": [
    {
     "data": {
      "text/plain": [
       "18.821891726977*x**0.800078880390687*(-x + 1)**3.52766755409849"
      ]
     },
     "execution_count": 25,
     "metadata": {},
     "output_type": "execute_result"
    }
   ],
   "source": [
    "dist"
   ]
  },
  {
   "cell_type": "code",
   "execution_count": 26,
   "metadata": {
    "collapsed": false
   },
   "outputs": [
    {
     "data": {
      "text/plain": [
       "18.821891726977*x**0.800078880390687*(-x + 1)**3.52766755409849"
      ]
     },
     "execution_count": 26,
     "metadata": {},
     "output_type": "execute_result"
    }
   ],
   "source": [
    "dist.args[0]*x**dist.args[1].args[1]*(-x+1)**dist.args[2].args[1]"
   ]
  },
  {
   "cell_type": "code",
   "execution_count": 27,
   "metadata": {
    "collapsed": false
   },
   "outputs": [],
   "source": [
    "g = tf(\n",
    "  dist.args[0]*tx(x)**dist.args[1].args[1]*(-tx(x)+1)**dist.args[2].args[1]\n",
    ")"
   ]
  },
  {
   "cell_type": "code",
   "execution_count": 28,
   "metadata": {
    "collapsed": false
   },
   "outputs": [
    {
     "data": {
      "image/png": "[encoded data removed]",
      "text/plain": [
       "<matplotlib.figure.Figure at 0x7f4c744b2e90>"
      ]
     },
     "metadata": {},
     "output_type": "display_data"
    }
   ],
   "source": [
    "plot(g, xlim=[-1.,5.],ylim=[0.,1.2*y_max]);"
   ]
  },
  {
   "cell_type": "markdown",
   "metadata": {},
   "source": [
    "Now, we can simply include $g$ into $p$ with some constants to smoothen it, e.g.:"
   ]
  },
  {
   "cell_type": "code",
   "execution_count": 29,
   "metadata": {
    "collapsed": false
   },
   "outputs": [],
   "source": [
    "mix = lambda p, q, c: (1-c)*p+c*q"
   ]
  },
  {
   "cell_type": "code",
   "execution_count": 30,
   "metadata": {
    "collapsed": false
   },
   "outputs": [
    {
     "data": {
      "image/png": "[encoded data removed]",
      "text/plain": [
       "<matplotlib.figure.Figure at 0x7f4c74736810>"
      ]
     },
     "metadata": {},
     "output_type": "display_data"
    }
   ],
   "source": [
    "plot(mix(p,g,0.1), xlim=[-1.,5.],ylim=[0.,1.2*y_max]);"
   ]
  },
  {
   "cell_type": "code",
   "execution_count": 31,
   "metadata": {
    "collapsed": false
   },
   "outputs": [
    {
     "data": {
      "image/png": "[encoded data removed]",
      "text/plain": [
       "<matplotlib.figure.Figure at 0x7f4c74733bd0>"
      ]
     },
     "metadata": {},
     "output_type": "display_data"
    }
   ],
   "source": [
    "plot(mix(p,g,0.2), xlim=[-1.,5.],ylim=[0.,1.2*y_max]);"
   ]
  }
 ],
 "metadata": {
  "kernelspec": {
   "display_name": "Python 2",
   "language": "python2",
   "name": "python2"
  },
  "language_info": {
   "codemirror_mode": {
    "name": "ipython",
    "version": 2
   },
   "file_extension": ".py",
   "mimetype": "text/x-python",
   "name": "python",
   "nbconvert_exporter": "python",
   "pygments_lexer": "ipython2",
   "version": "2.7.11"
  }
 },
 "nbformat": 4,
 "nbformat_minor": 0
}
