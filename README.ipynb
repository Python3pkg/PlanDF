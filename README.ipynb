{
 "cells": [
  {
   "cell_type": "markdown",
   "metadata": {},
   "source": [
    "Let's say we want to get some fruits, and we come up with two **ideas**:\n",
    "\n",
    "1. Planting apples and oranges in backyard.\n",
    "2. Migrating to warmer area."
   ]
  },
  {
   "cell_type": "markdown",
   "metadata": {},
   "source": [
    "How to compare them?\n",
    "\n",
    "Let's describe what we expect to add, and what we expect to get from **plans** based on them, expressed in terms of **steps**:\n",
    "\n",
    "<u>Plan 1:</u>\n",
    "\n",
    "1. extracting seeds\n",
    "2. planting field\n",
    "3. waiting (for crops to grow)\n",
    "\n",
    "![planting](http://blog.mindey.com/wp-content/uploads/2014/12/soil-with-plant-sprout-300x200.jpg)\n",
    "\n",
    "<u>Plan 2:</u>\n",
    "\n",
    "1. waiting (for right conditions to travel)\n",
    "2. travel (to where the fruis are)\n",
    "\n",
    "![traveling](http://blog.mindey.com/wp-content/uploads/2014/12/orange-trees-near-ocean-300x200.jpg)\n",
    "\n",
    "In order to determine, which plan is better, we have to give some assumptions. So, let's say our first plan is to invest into getting **20** oranges and **30** apples, extract their seeds, plant a field, care for it for **10 years**, and wait for another **1 year** to get the yield of **5000 oranges** and **10000 apples**. And let's say that our second plan is to invest **6 months** of waiting for **right conditions to travel** until, namely, let's say a person has a job, and has to accumulate the amount of money needed to **survive a 30 day trip**, and then actually invest that 30 day trip to travel into the region, where he can get **10000 bananas** and **50000 oranges** free in nature. Also, assume that the market price of all the things mentioned are known in various currencies:\n",
    "\n",
    "1. apple seeds: 0.15**usd** per item\n",
    "2. apple trees: 200**eur** per item\n",
    "3. apples: 500**jpy** per item\n",
    "4. orange seeds: 0.1**usd** per item\n",
    "5. orange trees: 150**usd** per item\n",
    "6. oranges: 1.3**cny** per item\n",
    "7. bananas: 0.25**usd** per item"
   ]
  },
  {
   "cell_type": "markdown",
   "metadata": {},
   "source": [
    "Okay, so let's now express it in terms of StepIO/PlanDF language:"
   ]
  },
  {
   "cell_type": "code",
   "execution_count": 1,
   "metadata": {
    "collapsed": false
   },
   "outputs": [],
   "source": [
    "import plandf"
   ]
  },
  {
   "cell_type": "code",
   "execution_count": 2,
   "metadata": {
    "collapsed": false
   },
   "outputs": [],
   "source": [
    "# extracting seeds ('orange seeds', 200), ('apple seeds': 150)\n",
    "# planting field\n",
    "# waiting (for crops to grow)\n",
    "\n",
    "growing_apples_and_oranges = [\n",
    "\n",
    "    ('extracting seeds: 1; time: 0.5@1h; oranges: 20@1.3cny; apples: 30@500jpy',   \n",
    "        'orange seeds: 200; apple seeds: 150@0.15usd'),\n",
    "\n",
    "    ('planting field: 1; time: 3653.5@24h; day of labor: 1; years of care: 10',\n",
    "         'orange trees: 50@150usd; apple trees: 100@200eur'),\n",
    "\n",
    "    ('waiting (for crops to grow): 1; time: 365.25@24h; years of waiting: 1',\n",
    "         'oranges: 5000@1.3cny; apples: 10000@500jpy')\n",
    "]\n",
    "\n",
    "# waiting (for right conditions to travel)\n",
    "# travel (to where the fruis are)\n",
    "\n",
    "migrating_to_warmer_latitude = [\n",
    "    ('time: 6@720h; months of waiting: 6',\n",
    "         'for right conditions to travel: 1; ability to survive a 30 day travel: 1'),\n",
    "\n",
    "    ('time: 30@24h; days travelling: 30',\n",
    "         'bananas: 10000@0.25usd; apples: 0@500jpy; oranges: 50000@1.3cny')\n",
    "]"
   ]
  },
  {
   "cell_type": "code",
   "execution_count": 3,
   "metadata": {
    "collapsed": false
   },
   "outputs": [],
   "source": [
    "import pandas as pd\n",
    "conversion_rates = pd.DataFrame({'h':   [25.39],\n",
    "                                 'usd': [1.],\n",
    "                                 'eur': [1.12565],\n",
    "                                 'cny': [0.153078],\n",
    "                                 'rub': [0.012709],\n",
    "                                 'jpy': [0.008832]})\n",
    "\n",
    "#conversion_rates = conversion_rates/conversion_rates['h']"
   ]
  },
  {
   "cell_type": "code",
   "execution_count": 4,
   "metadata": {
    "collapsed": false
   },
   "outputs": [
    {
     "data": {
      "text/html": [
       "<div>\n",
       "<table border=\"1\" class=\"dataframe\">\n",
       "  <thead>\n",
       "    <tr style=\"text-align: right;\">\n",
       "      <th></th>\n",
       "      <th>worst</th>\n",
       "      <th>mean</th>\n",
       "      <th>best</th>\n",
       "    </tr>\n",
       "    <tr>\n",
       "      <th>time</th>\n",
       "      <th></th>\n",
       "      <th></th>\n",
       "      <th></th>\n",
       "    </tr>\n",
       "  </thead>\n",
       "  <tbody>\n",
       "    <tr>\n",
       "      <th>0.0</th>\n",
       "      <td>0.000000</td>\n",
       "      <td>0.000000</td>\n",
       "      <td>0.000000</td>\n",
       "    </tr>\n",
       "    <tr>\n",
       "      <th>0.5</th>\n",
       "      <td>-4.488382</td>\n",
       "      <td>-4.488382</td>\n",
       "      <td>-4.488382</td>\n",
       "    </tr>\n",
       "    <tr>\n",
       "      <th>87684.5</th>\n",
       "      <td>1177.591177</td>\n",
       "      <td>1177.591177</td>\n",
       "      <td>1177.591177</td>\n",
       "    </tr>\n",
       "    <tr>\n",
       "      <th>96450.5</th>\n",
       "      <td>2956.047537</td>\n",
       "      <td>2956.047537</td>\n",
       "      <td>2956.047537</td>\n",
       "    </tr>\n",
       "  </tbody>\n",
       "</table>\n",
       "</div>"
      ],
      "text/plain": [
       "               worst         mean         best\n",
       "time                                          \n",
       "0.0         0.000000     0.000000     0.000000\n",
       "0.5        -4.488382    -4.488382    -4.488382\n",
       "87684.5  1177.591177  1177.591177  1177.591177\n",
       "96450.5  2956.047537  2956.047537  2956.047537"
      ]
     },
     "execution_count": 4,
     "metadata": {},
     "output_type": "execute_result"
    }
   ],
   "source": [
    "planting = plandf.read(growing_apples_and_oranges, conversion_rates)\n",
    "planting"
   ]
  },
  {
   "cell_type": "code",
   "execution_count": 5,
   "metadata": {
    "collapsed": false
   },
   "outputs": [
    {
     "data": {
      "text/html": [
       "<div>\n",
       "<table border=\"1\" class=\"dataframe\">\n",
       "  <thead>\n",
       "    <tr style=\"text-align: right;\">\n",
       "      <th></th>\n",
       "      <th>worst</th>\n",
       "      <th>mean</th>\n",
       "      <th>best</th>\n",
       "    </tr>\n",
       "    <tr>\n",
       "      <th>time</th>\n",
       "      <th></th>\n",
       "      <th></th>\n",
       "      <th></th>\n",
       "    </tr>\n",
       "  </thead>\n",
       "  <tbody>\n",
       "    <tr>\n",
       "      <th>0</th>\n",
       "      <td>0.000000</td>\n",
       "      <td>0.000000</td>\n",
       "      <td>0.000000</td>\n",
       "    </tr>\n",
       "    <tr>\n",
       "      <th>4320</th>\n",
       "      <td>0.000000</td>\n",
       "      <td>0.000000</td>\n",
       "      <td>0.000000</td>\n",
       "    </tr>\n",
       "    <tr>\n",
       "      <th>5040</th>\n",
       "      <td>490.353289</td>\n",
       "      <td>490.353289</td>\n",
       "      <td>490.353289</td>\n",
       "    </tr>\n",
       "  </tbody>\n",
       "</table>\n",
       "</div>"
      ],
      "text/plain": [
       "           worst        mean        best\n",
       "time                                    \n",
       "0       0.000000    0.000000    0.000000\n",
       "4320    0.000000    0.000000    0.000000\n",
       "5040  490.353289  490.353289  490.353289"
      ]
     },
     "execution_count": 5,
     "metadata": {},
     "output_type": "execute_result"
    }
   ],
   "source": [
    "migrating = plandf.read(migrating_to_warmer_latitude, conversion_rates)\n",
    "migrating"
   ]
  },
  {
   "cell_type": "code",
   "execution_count": 6,
   "metadata": {
    "collapsed": false
   },
   "outputs": [
    {
     "data": {
      "text/plain": [
       "<matplotlib.axes._subplots.AxesSubplot at 0x7fddd1009190>"
      ]
     },
     "execution_count": 6,
     "metadata": {},
     "output_type": "execute_result"
    }
   ],
   "source": [
    "comparison = pd.concat({'planting': planting,\n",
    "           'migrating': migrating}, axis=1)#.interpolate()\n",
    "comparison.interpolate().plot(legend=False, marker='o')"
   ]
  },
  {
   "cell_type": "markdown",
   "metadata": {},
   "source": [
    "The **time** axis is in hours, as well as **value** is in values of hours."
   ]
  },
  {
   "cell_type": "markdown",
   "metadata": {},
   "source": [
    "# Displaying for Humans"
   ]
  },
  {
   "cell_type": "code",
   "execution_count": 7,
   "metadata": {
    "collapsed": false
   },
   "outputs": [
    {
     "data": {
      "text/html": [
       "<div>\n",
       "<table border=\"1\" class=\"dataframe\">\n",
       "  <thead>\n",
       "    <tr>\n",
       "      <th></th>\n",
       "      <th colspan=\"3\" halign=\"left\">migrating</th>\n",
       "      <th colspan=\"3\" halign=\"left\">planting</th>\n",
       "    </tr>\n",
       "    <tr>\n",
       "      <th></th>\n",
       "      <th>worst</th>\n",
       "      <th>mean</th>\n",
       "      <th>best</th>\n",
       "      <th>worst</th>\n",
       "      <th>mean</th>\n",
       "      <th>best</th>\n",
       "    </tr>\n",
       "  </thead>\n",
       "  <tbody>\n",
       "    <tr>\n",
       "      <th>0 days 00:00:00</th>\n",
       "      <td>0.000000</td>\n",
       "      <td>0.000000</td>\n",
       "      <td>0.000000</td>\n",
       "      <td>0.000000</td>\n",
       "      <td>0.000000</td>\n",
       "      <td>0.000000</td>\n",
       "    </tr>\n",
       "    <tr>\n",
       "      <th>0 days 00:30:00</th>\n",
       "      <td>NaN</td>\n",
       "      <td>NaN</td>\n",
       "      <td>NaN</td>\n",
       "      <td>-112.209559</td>\n",
       "      <td>-112.209559</td>\n",
       "      <td>-112.209559</td>\n",
       "    </tr>\n",
       "    <tr>\n",
       "      <th>180 days 00:00:00</th>\n",
       "      <td>0.000000</td>\n",
       "      <td>0.000000</td>\n",
       "      <td>0.000000</td>\n",
       "      <td>NaN</td>\n",
       "      <td>NaN</td>\n",
       "      <td>NaN</td>\n",
       "    </tr>\n",
       "    <tr>\n",
       "      <th>210 days 00:00:00</th>\n",
       "      <td>12258.832217</td>\n",
       "      <td>12258.832217</td>\n",
       "      <td>12258.832217</td>\n",
       "      <td>NaN</td>\n",
       "      <td>NaN</td>\n",
       "      <td>NaN</td>\n",
       "    </tr>\n",
       "    <tr>\n",
       "      <th>3653 days 12:30:00</th>\n",
       "      <td>NaN</td>\n",
       "      <td>NaN</td>\n",
       "      <td>NaN</td>\n",
       "      <td>29439.779413</td>\n",
       "      <td>29439.779413</td>\n",
       "      <td>29439.779413</td>\n",
       "    </tr>\n",
       "    <tr>\n",
       "      <th>4018 days 18:30:00</th>\n",
       "      <td>NaN</td>\n",
       "      <td>NaN</td>\n",
       "      <td>NaN</td>\n",
       "      <td>73901.188432</td>\n",
       "      <td>73901.188432</td>\n",
       "      <td>73901.188432</td>\n",
       "    </tr>\n",
       "  </tbody>\n",
       "</table>\n",
       "</div>"
      ],
      "text/plain": [
       "                       migrating                                  planting  \\\n",
       "                           worst          mean          best         worst   \n",
       "0 days 00:00:00         0.000000      0.000000      0.000000      0.000000   \n",
       "0 days 00:30:00              NaN           NaN           NaN   -112.209559   \n",
       "180 days 00:00:00       0.000000      0.000000      0.000000           NaN   \n",
       "210 days 00:00:00   12258.832217  12258.832217  12258.832217           NaN   \n",
       "3653 days 12:30:00           NaN           NaN           NaN  29439.779413   \n",
       "4018 days 18:30:00           NaN           NaN           NaN  73901.188432   \n",
       "\n",
       "                                                \n",
       "                            mean          best  \n",
       "0 days 00:00:00         0.000000      0.000000  \n",
       "0 days 00:30:00      -112.209559   -112.209559  \n",
       "180 days 00:00:00            NaN           NaN  \n",
       "210 days 00:00:00            NaN           NaN  \n",
       "3653 days 12:30:00  29439.779413  29439.779413  \n",
       "4018 days 18:30:00  73901.188432  73901.188432  "
      ]
     },
     "execution_count": 7,
     "metadata": {},
     "output_type": "execute_result"
    }
   ],
   "source": [
    "plandf.utils.humanize(comparison)"
   ]
  },
  {
   "cell_type": "code",
   "execution_count": 22,
   "metadata": {
    "collapsed": false
   },
   "outputs": [
    {
     "name": "stdout",
     "output_type": "stream",
     "text": [
      "Populating the interactive namespace from numpy and matplotlib\n"
     ]
    },
    {
     "data": {
      "image/png": "[encoded data removed]",
      "text/plain": [
       "<matplotlib.figure.Figure at 0x7fddd0a888d0>"
      ]
     },
     "metadata": {},
     "output_type": "display_data"
    }
   ],
   "source": [
    "%pylab inline\n",
    "plandf.utils.humanize(comparison).fillna(method='bfill').plot(legend=False, marker='o', linestyle='--');"
   ]
  },
  {
   "cell_type": "markdown",
   "metadata": {},
   "source": [
    "This is a very informative table. Conclusion -- you could get more value in fruits by migration. "
   ]
  },
  {
   "cell_type": "markdown",
   "metadata": {},
   "source": [
    "# When scenarios differ:"
   ]
  },
  {
   "cell_type": "code",
   "execution_count": 9,
   "metadata": {
    "collapsed": true
   },
   "outputs": [],
   "source": [
    "growing_apples_and_oranges = [\n",
    "\n",
    "    ('extracting seeds: 1; time: 0.5~2@1h; oranges: 15~30@1.3~2cny; apples: 20~40@500~600jpy',   \n",
    "        'orange seeds: 200~250; apple seeds: 150~200@0.15~0.3usd'),\n",
    "\n",
    "    ('planting field: 1; time: 2000~3653.5@24h; day of labor: 1~2; years of care: 7~10',\n",
    "         'orange trees: 50~60@150~200usd; apple trees: 100~150@200~300eur'),\n",
    "\n",
    "    ('waiting (for crops to grow): 1; time: 365.25~390@24h; years of waiting: 1~1.2',\n",
    "         'oranges: 5000~6000@1.3~2cny; apples: 10000@500~600jpy')\n",
    "]\n",
    "\n",
    "migrating_to_warmer_latitude = [\n",
    "    ('time: 6@720h; months of waiting: 6',\n",
    "         'for right conditions to travel: 1; ability to survive a 30 day travel: 1'),\n",
    "\n",
    "    ('time: 30@24h; days travelling: 30',\n",
    "         'bananas: 10000@0.25~3usd; apples: 0@500~600jpy; oranges: 50000@1.3~2cny')\n",
    "]"
   ]
  },
  {
   "cell_type": "markdown",
   "metadata": {},
   "source": [
    "Note, we didn't have more scenarios, but if we added our uncertainty, such as"
   ]
  },
  {
   "cell_type": "code",
   "execution_count": 10,
   "metadata": {
    "collapsed": true
   },
   "outputs": [],
   "source": [
    "plant = plandf.read(growing_apples_and_oranges, conversion_rates)"
   ]
  },
  {
   "cell_type": "code",
   "execution_count": 11,
   "metadata": {
    "collapsed": false
   },
   "outputs": [
    {
     "data": {
      "text/html": [
       "<div>\n",
       "<table border=\"1\" class=\"dataframe\">\n",
       "  <thead>\n",
       "    <tr style=\"text-align: right;\">\n",
       "      <th></th>\n",
       "      <th>worst</th>\n",
       "      <th>mean</th>\n",
       "      <th>best</th>\n",
       "    </tr>\n",
       "  </thead>\n",
       "  <tbody>\n",
       "    <tr>\n",
       "      <th>0 days 00:00:00</th>\n",
       "      <td>0.000000</td>\n",
       "      <td>0.000000</td>\n",
       "      <td>0.000000</td>\n",
       "    </tr>\n",
       "    <tr>\n",
       "      <th>0 days 00:30:00</th>\n",
       "      <td>NaN</td>\n",
       "      <td>NaN</td>\n",
       "      <td>-30.824164</td>\n",
       "    </tr>\n",
       "    <tr>\n",
       "      <th>0 days 01:15:00</th>\n",
       "      <td>NaN</td>\n",
       "      <td>-110.315105</td>\n",
       "      <td>NaN</td>\n",
       "    </tr>\n",
       "    <tr>\n",
       "      <th>0 days 02:00:00</th>\n",
       "      <td>-195.601300</td>\n",
       "      <td>NaN</td>\n",
       "      <td>NaN</td>\n",
       "    </tr>\n",
       "    <tr>\n",
       "      <th>2000 days 00:30:00</th>\n",
       "      <td>NaN</td>\n",
       "      <td>NaN</td>\n",
       "      <td>61661.032866</td>\n",
       "    </tr>\n",
       "    <tr>\n",
       "      <th>2365 days 06:30:00</th>\n",
       "      <td>NaN</td>\n",
       "      <td>NaN</td>\n",
       "      <td>115647.775678</td>\n",
       "    </tr>\n",
       "    <tr>\n",
       "      <th>2826 days 19:15:00</th>\n",
       "      <td>NaN</td>\n",
       "      <td>44003.078455</td>\n",
       "      <td>NaN</td>\n",
       "    </tr>\n",
       "    <tr>\n",
       "      <th>3204 days 10:15:00</th>\n",
       "      <td>NaN</td>\n",
       "      <td>93200.777205</td>\n",
       "      <td>NaN</td>\n",
       "    </tr>\n",
       "    <tr>\n",
       "      <th>3653 days 14:00:00</th>\n",
       "      <td>29356.387672</td>\n",
       "      <td>NaN</td>\n",
       "      <td>NaN</td>\n",
       "    </tr>\n",
       "    <tr>\n",
       "      <th>4043 days 14:00:00</th>\n",
       "      <td>73817.796692</td>\n",
       "      <td>NaN</td>\n",
       "      <td>NaN</td>\n",
       "    </tr>\n",
       "  </tbody>\n",
       "</table>\n",
       "</div>"
      ],
      "text/plain": [
       "                           worst          mean           best\n",
       "0 days 00:00:00         0.000000      0.000000       0.000000\n",
       "0 days 00:30:00              NaN           NaN     -30.824164\n",
       "0 days 01:15:00              NaN   -110.315105            NaN\n",
       "0 days 02:00:00      -195.601300           NaN            NaN\n",
       "2000 days 00:30:00           NaN           NaN   61661.032866\n",
       "2365 days 06:30:00           NaN           NaN  115647.775678\n",
       "2826 days 19:15:00           NaN  44003.078455            NaN\n",
       "3204 days 10:15:00           NaN  93200.777205            NaN\n",
       "3653 days 14:00:00  29356.387672           NaN            NaN\n",
       "4043 days 14:00:00  73817.796692           NaN            NaN"
      ]
     },
     "execution_count": 11,
     "metadata": {},
     "output_type": "execute_result"
    }
   ],
   "source": [
    "plandf.utils.humanize(plant)"
   ]
  },
  {
   "cell_type": "code",
   "execution_count": 19,
   "metadata": {
    "collapsed": false
   },
   "outputs": [
    {
     "data": {
      "text/plain": [
       "<matplotlib.axes._subplots.AxesSubplot at 0x7fddd0e94f90>"
      ]
     },
     "execution_count": 19,
     "metadata": {},
     "output_type": "execute_result"
    },
    {
     "data": {
      "image/png": "[encoded data removed]",
      "text/plain": [
       "<matplotlib.figure.Figure at 0x7fddd0cf05d0>"
      ]
     },
     "metadata": {},
     "output_type": "display_data"
    }
   ],
   "source": [
    "plandf.utils.humanize(plant).fillna(method='bfill').plot(title='Value in (USD)', marker='o', linestyle='--')"
   ]
  },
  {
   "cell_type": "code",
   "execution_count": 13,
   "metadata": {
    "collapsed": true
   },
   "outputs": [],
   "source": [
    "migrate = plandf.read(migrating_to_warmer_latitude, conversion_rates)"
   ]
  },
  {
   "cell_type": "code",
   "execution_count": 20,
   "metadata": {
    "collapsed": false
   },
   "outputs": [
    {
     "data": {
      "text/plain": [
       "<matplotlib.axes._subplots.AxesSubplot at 0x7fddd0c70a10>"
      ]
     },
     "execution_count": 20,
     "metadata": {},
     "output_type": "execute_result"
    },
    {
     "data": {
      "image/png": "[encoded data removed]",
      "text/plain": [
       "<matplotlib.figure.Figure at 0x7fddd0c37390>"
      ]
     },
     "metadata": {},
     "output_type": "display_data"
    }
   ],
   "source": [
    "plandf.utils.humanize(migrate).fillna(method='bfill').plot(title='Value in (USD)', marker='o', linestyle='--')"
   ]
  },
  {
   "cell_type": "code",
   "execution_count": 15,
   "metadata": {
    "collapsed": true
   },
   "outputs": [],
   "source": [
    "compare = pd.concat({'plant': plant,\n",
    "           'migrate': migrate}, axis=1)"
   ]
  },
  {
   "cell_type": "code",
   "execution_count": 16,
   "metadata": {
    "collapsed": false
   },
   "outputs": [
    {
     "data": {
      "text/html": [
       "<div>\n",
       "<table border=\"1\" class=\"dataframe\">\n",
       "  <thead>\n",
       "    <tr>\n",
       "      <th></th>\n",
       "      <th colspan=\"3\" halign=\"left\">migrate</th>\n",
       "      <th colspan=\"3\" halign=\"left\">plant</th>\n",
       "    </tr>\n",
       "    <tr>\n",
       "      <th></th>\n",
       "      <th>worst</th>\n",
       "      <th>mean</th>\n",
       "      <th>best</th>\n",
       "      <th>worst</th>\n",
       "      <th>mean</th>\n",
       "      <th>best</th>\n",
       "    </tr>\n",
       "    <tr>\n",
       "      <th>time</th>\n",
       "      <th></th>\n",
       "      <th></th>\n",
       "      <th></th>\n",
       "      <th></th>\n",
       "      <th></th>\n",
       "      <th></th>\n",
       "    </tr>\n",
       "  </thead>\n",
       "  <tbody>\n",
       "    <tr>\n",
       "      <th>0.00</th>\n",
       "      <td>0.000000</td>\n",
       "      <td>0.000000</td>\n",
       "      <td>0.000000</td>\n",
       "      <td>0.000000</td>\n",
       "      <td>0.000000</td>\n",
       "      <td>0.000000</td>\n",
       "    </tr>\n",
       "    <tr>\n",
       "      <th>0.50</th>\n",
       "      <td>NaN</td>\n",
       "      <td>NaN</td>\n",
       "      <td>NaN</td>\n",
       "      <td>NaN</td>\n",
       "      <td>NaN</td>\n",
       "      <td>-1.232967</td>\n",
       "    </tr>\n",
       "    <tr>\n",
       "      <th>1.25</th>\n",
       "      <td>NaN</td>\n",
       "      <td>NaN</td>\n",
       "      <td>NaN</td>\n",
       "      <td>NaN</td>\n",
       "      <td>-4.412604</td>\n",
       "      <td>NaN</td>\n",
       "    </tr>\n",
       "    <tr>\n",
       "      <th>2.00</th>\n",
       "      <td>NaN</td>\n",
       "      <td>NaN</td>\n",
       "      <td>NaN</td>\n",
       "      <td>-7.824052</td>\n",
       "      <td>NaN</td>\n",
       "      <td>NaN</td>\n",
       "    </tr>\n",
       "    <tr>\n",
       "      <th>4320.00</th>\n",
       "      <td>0.000000</td>\n",
       "      <td>0.000000</td>\n",
       "      <td>0.000000</td>\n",
       "      <td>NaN</td>\n",
       "      <td>NaN</td>\n",
       "      <td>NaN</td>\n",
       "    </tr>\n",
       "    <tr>\n",
       "      <th>5040.00</th>\n",
       "      <td>490.353289</td>\n",
       "      <td>1137.413746</td>\n",
       "      <td>1784.474202</td>\n",
       "      <td>NaN</td>\n",
       "      <td>NaN</td>\n",
       "      <td>NaN</td>\n",
       "    </tr>\n",
       "    <tr>\n",
       "      <th>48000.50</th>\n",
       "      <td>NaN</td>\n",
       "      <td>NaN</td>\n",
       "      <td>NaN</td>\n",
       "      <td>NaN</td>\n",
       "      <td>NaN</td>\n",
       "      <td>2466.441315</td>\n",
       "    </tr>\n",
       "    <tr>\n",
       "      <th>56766.50</th>\n",
       "      <td>NaN</td>\n",
       "      <td>NaN</td>\n",
       "      <td>NaN</td>\n",
       "      <td>NaN</td>\n",
       "      <td>NaN</td>\n",
       "      <td>4625.911027</td>\n",
       "    </tr>\n",
       "    <tr>\n",
       "      <th>67843.25</th>\n",
       "      <td>NaN</td>\n",
       "      <td>NaN</td>\n",
       "      <td>NaN</td>\n",
       "      <td>NaN</td>\n",
       "      <td>1760.123138</td>\n",
       "      <td>NaN</td>\n",
       "    </tr>\n",
       "    <tr>\n",
       "      <th>76906.25</th>\n",
       "      <td>NaN</td>\n",
       "      <td>NaN</td>\n",
       "      <td>NaN</td>\n",
       "      <td>NaN</td>\n",
       "      <td>3728.031088</td>\n",
       "      <td>NaN</td>\n",
       "    </tr>\n",
       "    <tr>\n",
       "      <th>87686.00</th>\n",
       "      <td>NaN</td>\n",
       "      <td>NaN</td>\n",
       "      <td>NaN</td>\n",
       "      <td>1174.255507</td>\n",
       "      <td>NaN</td>\n",
       "      <td>NaN</td>\n",
       "    </tr>\n",
       "    <tr>\n",
       "      <th>97046.00</th>\n",
       "      <td>NaN</td>\n",
       "      <td>NaN</td>\n",
       "      <td>NaN</td>\n",
       "      <td>2952.711868</td>\n",
       "      <td>NaN</td>\n",
       "      <td>NaN</td>\n",
       "    </tr>\n",
       "  </tbody>\n",
       "</table>\n",
       "</div>"
      ],
      "text/plain": [
       "             migrate                                  plant               \\\n",
       "               worst         mean         best        worst         mean   \n",
       "time                                                                       \n",
       "0.00        0.000000     0.000000     0.000000     0.000000     0.000000   \n",
       "0.50             NaN          NaN          NaN          NaN          NaN   \n",
       "1.25             NaN          NaN          NaN          NaN    -4.412604   \n",
       "2.00             NaN          NaN          NaN    -7.824052          NaN   \n",
       "4320.00     0.000000     0.000000     0.000000          NaN          NaN   \n",
       "5040.00   490.353289  1137.413746  1784.474202          NaN          NaN   \n",
       "48000.50         NaN          NaN          NaN          NaN          NaN   \n",
       "56766.50         NaN          NaN          NaN          NaN          NaN   \n",
       "67843.25         NaN          NaN          NaN          NaN  1760.123138   \n",
       "76906.25         NaN          NaN          NaN          NaN  3728.031088   \n",
       "87686.00         NaN          NaN          NaN  1174.255507          NaN   \n",
       "97046.00         NaN          NaN          NaN  2952.711868          NaN   \n",
       "\n",
       "                       \n",
       "                 best  \n",
       "time                   \n",
       "0.00         0.000000  \n",
       "0.50        -1.232967  \n",
       "1.25              NaN  \n",
       "2.00              NaN  \n",
       "4320.00           NaN  \n",
       "5040.00           NaN  \n",
       "48000.50  2466.441315  \n",
       "56766.50  4625.911027  \n",
       "67843.25          NaN  \n",
       "76906.25          NaN  \n",
       "87686.00          NaN  \n",
       "97046.00          NaN  "
      ]
     },
     "execution_count": 16,
     "metadata": {},
     "output_type": "execute_result"
    }
   ],
   "source": [
    "compare"
   ]
  },
  {
   "cell_type": "code",
   "execution_count": 17,
   "metadata": {
    "collapsed": false
   },
   "outputs": [
    {
     "data": {
      "text/html": [
       "<div>\n",
       "<table border=\"1\" class=\"dataframe\">\n",
       "  <thead>\n",
       "    <tr>\n",
       "      <th></th>\n",
       "      <th colspan=\"3\" halign=\"left\">migrate</th>\n",
       "      <th colspan=\"3\" halign=\"left\">plant</th>\n",
       "    </tr>\n",
       "    <tr>\n",
       "      <th></th>\n",
       "      <th>worst</th>\n",
       "      <th>mean</th>\n",
       "      <th>best</th>\n",
       "      <th>worst</th>\n",
       "      <th>mean</th>\n",
       "      <th>best</th>\n",
       "    </tr>\n",
       "  </thead>\n",
       "  <tbody>\n",
       "    <tr>\n",
       "      <th>0 days 00:00:00</th>\n",
       "      <td>0.000000</td>\n",
       "      <td>0.000000</td>\n",
       "      <td>0.000000</td>\n",
       "      <td>0.000000</td>\n",
       "      <td>0.000000</td>\n",
       "      <td>0.000000</td>\n",
       "    </tr>\n",
       "    <tr>\n",
       "      <th>0 days 00:30:00</th>\n",
       "      <td>NaN</td>\n",
       "      <td>NaN</td>\n",
       "      <td>NaN</td>\n",
       "      <td>NaN</td>\n",
       "      <td>NaN</td>\n",
       "      <td>-30.824164</td>\n",
       "    </tr>\n",
       "    <tr>\n",
       "      <th>0 days 01:15:00</th>\n",
       "      <td>NaN</td>\n",
       "      <td>NaN</td>\n",
       "      <td>NaN</td>\n",
       "      <td>NaN</td>\n",
       "      <td>-110.315105</td>\n",
       "      <td>NaN</td>\n",
       "    </tr>\n",
       "    <tr>\n",
       "      <th>0 days 02:00:00</th>\n",
       "      <td>NaN</td>\n",
       "      <td>NaN</td>\n",
       "      <td>NaN</td>\n",
       "      <td>-195.601300</td>\n",
       "      <td>NaN</td>\n",
       "      <td>NaN</td>\n",
       "    </tr>\n",
       "    <tr>\n",
       "      <th>180 days 00:00:00</th>\n",
       "      <td>0.000000</td>\n",
       "      <td>0.000000</td>\n",
       "      <td>0.000000</td>\n",
       "      <td>NaN</td>\n",
       "      <td>NaN</td>\n",
       "      <td>NaN</td>\n",
       "    </tr>\n",
       "    <tr>\n",
       "      <th>210 days 00:00:00</th>\n",
       "      <td>12258.832217</td>\n",
       "      <td>28435.343639</td>\n",
       "      <td>44611.855061</td>\n",
       "      <td>NaN</td>\n",
       "      <td>NaN</td>\n",
       "      <td>NaN</td>\n",
       "    </tr>\n",
       "    <tr>\n",
       "      <th>2000 days 00:30:00</th>\n",
       "      <td>NaN</td>\n",
       "      <td>NaN</td>\n",
       "      <td>NaN</td>\n",
       "      <td>NaN</td>\n",
       "      <td>NaN</td>\n",
       "      <td>61661.032866</td>\n",
       "    </tr>\n",
       "    <tr>\n",
       "      <th>2365 days 06:30:00</th>\n",
       "      <td>NaN</td>\n",
       "      <td>NaN</td>\n",
       "      <td>NaN</td>\n",
       "      <td>NaN</td>\n",
       "      <td>NaN</td>\n",
       "      <td>115647.775678</td>\n",
       "    </tr>\n",
       "    <tr>\n",
       "      <th>2826 days 19:15:00</th>\n",
       "      <td>NaN</td>\n",
       "      <td>NaN</td>\n",
       "      <td>NaN</td>\n",
       "      <td>NaN</td>\n",
       "      <td>44003.078455</td>\n",
       "      <td>NaN</td>\n",
       "    </tr>\n",
       "    <tr>\n",
       "      <th>3204 days 10:15:00</th>\n",
       "      <td>NaN</td>\n",
       "      <td>NaN</td>\n",
       "      <td>NaN</td>\n",
       "      <td>NaN</td>\n",
       "      <td>93200.777205</td>\n",
       "      <td>NaN</td>\n",
       "    </tr>\n",
       "    <tr>\n",
       "      <th>3653 days 14:00:00</th>\n",
       "      <td>NaN</td>\n",
       "      <td>NaN</td>\n",
       "      <td>NaN</td>\n",
       "      <td>29356.387672</td>\n",
       "      <td>NaN</td>\n",
       "      <td>NaN</td>\n",
       "    </tr>\n",
       "    <tr>\n",
       "      <th>4043 days 14:00:00</th>\n",
       "      <td>NaN</td>\n",
       "      <td>NaN</td>\n",
       "      <td>NaN</td>\n",
       "      <td>73817.796692</td>\n",
       "      <td>NaN</td>\n",
       "      <td>NaN</td>\n",
       "    </tr>\n",
       "  </tbody>\n",
       "</table>\n",
       "</div>"
      ],
      "text/plain": [
       "                         migrate                                     plant  \\\n",
       "                           worst          mean          best         worst   \n",
       "0 days 00:00:00         0.000000      0.000000      0.000000      0.000000   \n",
       "0 days 00:30:00              NaN           NaN           NaN           NaN   \n",
       "0 days 01:15:00              NaN           NaN           NaN           NaN   \n",
       "0 days 02:00:00              NaN           NaN           NaN   -195.601300   \n",
       "180 days 00:00:00       0.000000      0.000000      0.000000           NaN   \n",
       "210 days 00:00:00   12258.832217  28435.343639  44611.855061           NaN   \n",
       "2000 days 00:30:00           NaN           NaN           NaN           NaN   \n",
       "2365 days 06:30:00           NaN           NaN           NaN           NaN   \n",
       "2826 days 19:15:00           NaN           NaN           NaN           NaN   \n",
       "3204 days 10:15:00           NaN           NaN           NaN           NaN   \n",
       "3653 days 14:00:00           NaN           NaN           NaN  29356.387672   \n",
       "4043 days 14:00:00           NaN           NaN           NaN  73817.796692   \n",
       "\n",
       "                                                 \n",
       "                            mean           best  \n",
       "0 days 00:00:00         0.000000       0.000000  \n",
       "0 days 00:30:00              NaN     -30.824164  \n",
       "0 days 01:15:00      -110.315105            NaN  \n",
       "0 days 02:00:00              NaN            NaN  \n",
       "180 days 00:00:00            NaN            NaN  \n",
       "210 days 00:00:00            NaN            NaN  \n",
       "2000 days 00:30:00           NaN   61661.032866  \n",
       "2365 days 06:30:00           NaN  115647.775678  \n",
       "2826 days 19:15:00  44003.078455            NaN  \n",
       "3204 days 10:15:00  93200.777205            NaN  \n",
       "3653 days 14:00:00           NaN            NaN  \n",
       "4043 days 14:00:00           NaN            NaN  "
      ]
     },
     "execution_count": 17,
     "metadata": {},
     "output_type": "execute_result"
    }
   ],
   "source": [
    "plandf.utils.humanize(compare)"
   ]
  },
  {
   "cell_type": "code",
   "execution_count": 21,
   "metadata": {
    "collapsed": false
   },
   "outputs": [
    {
     "data": {
      "text/plain": [
       "<matplotlib.axes._subplots.AxesSubplot at 0x7fddd0b87790>"
      ]
     },
     "execution_count": 21,
     "metadata": {},
     "output_type": "execute_result"
    },
    {
     "data": {
      "image/png": "[encoded data removed]",
      "text/plain": [
       "<matplotlib.figure.Figure at 0x7fddd0eedb90>"
      ]
     },
     "metadata": {},
     "output_type": "display_data"
    }
   ],
   "source": [
    "plandf.utils.humanize(compare).fillna(method='bfill').plot(legend=False, marker='o', linestyle='--')"
   ]
  },
  {
   "cell_type": "code",
   "execution_count": null,
   "metadata": {
    "collapsed": true
   },
   "outputs": [],
   "source": []
  },
  {
   "cell_type": "code",
   "execution_count": null,
   "metadata": {
    "collapsed": true
   },
   "outputs": [],
   "source": []
  },
  {
   "cell_type": "code",
   "execution_count": null,
   "metadata": {
    "collapsed": true
   },
   "outputs": [],
   "source": []
  }
 ],
 "metadata": {
  "kernelspec": {
   "display_name": "Python 2",
   "language": "python2",
   "name": "python2"
  },
  "language_info": {
   "codemirror_mode": {
    "name": "ipython",
    "version": 2
   },
   "file_extension": ".py",
   "mimetype": "text/x-python",
   "name": "python",
   "nbconvert_exporter": "python",
   "pygments_lexer": "ipython2",
   "version": "2.7.11"
  }
 },
 "nbformat": 4,
 "nbformat_minor": 0
}
