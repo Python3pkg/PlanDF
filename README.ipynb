{
 "cells": [
  {
   "cell_type": "markdown",
   "metadata": {},
   "source": [
    "Let's say we want to get some fruits, and we come up with two **ideas**:\n",
    "\n",
    "1. Planting apples and oranges in backyard.\n",
    "2. Migrating to warmer area."
   ]
  },
  {
   "cell_type": "markdown",
   "metadata": {},
   "source": [
    "How to compare them?\n",
    "\n",
    "Let's describe what we expect to add, and what we expect to get from **plans** based on them, expressed in terms of **steps**:\n",
    "\n",
    "<u>Plan 1:</u>\n",
    "\n",
    "1. extracting seeds\n",
    "2. planting field\n",
    "3. waiting (for crops to grow)\n",
    "\n",
    "![planting](http://blog.mindey.com/wp-content/uploads/2014/12/soil-with-plant-sprout-300x200.jpg)\n",
    "\n",
    "<u>Plan 2:</u>\n",
    "\n",
    "1. waiting (for right conditions to travel)\n",
    "2. travel (to where the fruis are)\n",
    "\n",
    "![traveling](http://blog.mindey.com/wp-content/uploads/2014/12/orange-trees-near-ocean-300x200.jpg)\n",
    "\n",
    "In order to determine, which plan is better, we have to give some assumptions. So, let's say our first plan is to invest into getting **20** oranges and **30** apples, extract their seeds, plant a field, care for it for **10 years**, and wait for another **1 year** to get the yield of **5000 oranges** and **10000 apples**. And let's say that our second plan is to invest **6 months** of waiting for **right conditions to travel** until, namely, let's say a person has a job, and has to accumulate the amount of money needed to **survive a 30 day trip**, and then actually invest that 30 day trip to travel into the region, where he can get **10000 bananas** and **50000 oranges** free in nature. Also, assume that the market price of all the things mentioned are known in various currencies:\n",
    "\n",
    "1. apple seeds: 0.15**usd** per item\n",
    "2. apple trees: 200**eur** per item\n",
    "3. apples: 500**jpy** per item\n",
    "4. orange seeds: 0.1**usd** per item\n",
    "5. orange trees: 150**usd** per item\n",
    "6. oranges: 1.3**cny** per item\n",
    "7. bananas: 0.25**usd** per item"
   ]
  },
  {
   "cell_type": "markdown",
   "metadata": {},
   "source": [
    "Okay, so let's now express it in terms of StepIO/PlanDF language:"
   ]
  },
  {
   "cell_type": "code",
   "execution_count": 1,
   "metadata": {
    "collapsed": false
   },
   "outputs": [],
   "source": [
    "import plandf"
   ]
  },
  {
   "cell_type": "code",
   "execution_count": 2,
   "metadata": {
    "collapsed": false
   },
   "outputs": [],
   "source": [
    "# extracting seeds ('orange seeds', 200), ('apple seeds': 150)\n",
    "# planting field\n",
    "# waiting (for crops to grow)\n",
    "\n",
    "growing_apples_and_oranges = [\n",
    "\n",
    "    ('extracting seeds: 1; time: 0.5@1h; oranges: 20@1.3cny; apples: 30@500jpy',   \n",
    "        'orange seeds: 200; apple seeds: 150@0.15usd'),\n",
    "\n",
    "    ('planting field: 1; time: 3653.5@24h; day of labor: 1; years of care: 10',\n",
    "         'orange trees: 50@150usd; apple trees: 100@200eur'),\n",
    "\n",
    "    ('waiting (for crops to grow): 1; time: 365.25@24h; years of waiting: 1',\n",
    "         'oranges: 5000@1.3cny; apples: 10000@500jpy')\n",
    "]\n",
    "\n",
    "# waiting (for right conditions to travel)\n",
    "# travel (to where the fruis are)\n",
    "\n",
    "migrating_to_warmer_latitude = [\n",
    "    ('time: 6@720h; months of waiting: 6',\n",
    "         'for right conditions to travel: 1; ability to survive a 30 day travel: 1'),\n",
    "\n",
    "    ('time: 30@24h; days travelling: 30',\n",
    "         'bananas: 10000@0.25usd; apples: 0@500jpy; oranges: 50000@1.3cny')\n",
    "]"
   ]
  },
  {
   "cell_type": "code",
   "execution_count": 3,
   "metadata": {
    "collapsed": false
   },
   "outputs": [],
   "source": [
    "import pandas as pd\n",
    "conversion_rates = pd.DataFrame({'h':   [25.39],\n",
    "                                 'usd': [1.],\n",
    "                                 'eur': [1.12565],\n",
    "                                 'cny': [0.153078],\n",
    "                                 'rub': [0.012709],\n",
    "                                 'jpy': [0.008832]})\n",
    "\n",
    "#conversion_rates = conversion_rates/conversion_rates['h']"
   ]
  },
  {
   "cell_type": "code",
   "execution_count": 4,
   "metadata": {
    "collapsed": false
   },
   "outputs": [
    {
     "data": {
      "text/html": [
       "<div>\n",
       "<table border=\"1\" class=\"dataframe\">\n",
       "  <thead>\n",
       "    <tr style=\"text-align: right;\">\n",
       "      <th></th>\n",
       "      <th>worst</th>\n",
       "      <th>mean</th>\n",
       "      <th>best</th>\n",
       "    </tr>\n",
       "    <tr>\n",
       "      <th>time</th>\n",
       "      <th></th>\n",
       "      <th></th>\n",
       "      <th></th>\n",
       "    </tr>\n",
       "  </thead>\n",
       "  <tbody>\n",
       "    <tr>\n",
       "      <th>0.0</th>\n",
       "      <td>0.000000</td>\n",
       "      <td>0.000000</td>\n",
       "      <td>0.000000</td>\n",
       "    </tr>\n",
       "    <tr>\n",
       "      <th>0.5</th>\n",
       "      <td>-4.488382</td>\n",
       "      <td>-4.488382</td>\n",
       "      <td>-4.488382</td>\n",
       "    </tr>\n",
       "    <tr>\n",
       "      <th>87684.5</th>\n",
       "      <td>1177.591177</td>\n",
       "      <td>1177.591177</td>\n",
       "      <td>1177.591177</td>\n",
       "    </tr>\n",
       "    <tr>\n",
       "      <th>96450.5</th>\n",
       "      <td>2956.047537</td>\n",
       "      <td>2956.047537</td>\n",
       "      <td>2956.047537</td>\n",
       "    </tr>\n",
       "  </tbody>\n",
       "</table>\n",
       "</div>"
      ],
      "text/plain": [
       "               worst         mean         best\n",
       "time                                          \n",
       "0.0         0.000000     0.000000     0.000000\n",
       "0.5        -4.488382    -4.488382    -4.488382\n",
       "87684.5  1177.591177  1177.591177  1177.591177\n",
       "96450.5  2956.047537  2956.047537  2956.047537"
      ]
     },
     "execution_count": 4,
     "metadata": {},
     "output_type": "execute_result"
    }
   ],
   "source": [
    "planting = plandf.read(growing_apples_and_oranges, conversion_rates)\n",
    "planting"
   ]
  },
  {
   "cell_type": "code",
   "execution_count": 5,
   "metadata": {
    "collapsed": false
   },
   "outputs": [
    {
     "data": {
      "text/html": [
       "<div>\n",
       "<table border=\"1\" class=\"dataframe\">\n",
       "  <thead>\n",
       "    <tr style=\"text-align: right;\">\n",
       "      <th></th>\n",
       "      <th>worst</th>\n",
       "      <th>mean</th>\n",
       "      <th>best</th>\n",
       "    </tr>\n",
       "    <tr>\n",
       "      <th>time</th>\n",
       "      <th></th>\n",
       "      <th></th>\n",
       "      <th></th>\n",
       "    </tr>\n",
       "  </thead>\n",
       "  <tbody>\n",
       "    <tr>\n",
       "      <th>0</th>\n",
       "      <td>0.000000</td>\n",
       "      <td>0.000000</td>\n",
       "      <td>0.000000</td>\n",
       "    </tr>\n",
       "    <tr>\n",
       "      <th>4320</th>\n",
       "      <td>0.000000</td>\n",
       "      <td>0.000000</td>\n",
       "      <td>0.000000</td>\n",
       "    </tr>\n",
       "    <tr>\n",
       "      <th>5040</th>\n",
       "      <td>490.353289</td>\n",
       "      <td>490.353289</td>\n",
       "      <td>490.353289</td>\n",
       "    </tr>\n",
       "  </tbody>\n",
       "</table>\n",
       "</div>"
      ],
      "text/plain": [
       "           worst        mean        best\n",
       "time                                    \n",
       "0       0.000000    0.000000    0.000000\n",
       "4320    0.000000    0.000000    0.000000\n",
       "5040  490.353289  490.353289  490.353289"
      ]
     },
     "execution_count": 5,
     "metadata": {},
     "output_type": "execute_result"
    }
   ],
   "source": [
    "migrating = plandf.read(migrating_to_warmer_latitude, conversion_rates)\n",
    "migrating"
   ]
  },
  {
   "cell_type": "code",
   "execution_count": 6,
   "metadata": {
    "collapsed": false
   },
   "outputs": [
    {
     "data": {
      "text/html": [
       "<div>\n",
       "<table border=\"1\" class=\"dataframe\">\n",
       "  <thead>\n",
       "    <tr>\n",
       "      <th></th>\n",
       "      <th colspan=\"3\" halign=\"left\">migrating</th>\n",
       "      <th colspan=\"3\" halign=\"left\">planting</th>\n",
       "    </tr>\n",
       "    <tr>\n",
       "      <th></th>\n",
       "      <th>worst</th>\n",
       "      <th>mean</th>\n",
       "      <th>best</th>\n",
       "      <th>worst</th>\n",
       "      <th>mean</th>\n",
       "      <th>best</th>\n",
       "    </tr>\n",
       "    <tr>\n",
       "      <th>time</th>\n",
       "      <th></th>\n",
       "      <th></th>\n",
       "      <th></th>\n",
       "      <th></th>\n",
       "      <th></th>\n",
       "      <th></th>\n",
       "    </tr>\n",
       "  </thead>\n",
       "  <tbody>\n",
       "    <tr>\n",
       "      <th>0.0</th>\n",
       "      <td>0.000000</td>\n",
       "      <td>0.000000</td>\n",
       "      <td>0.000000</td>\n",
       "      <td>0.000000</td>\n",
       "      <td>0.000000</td>\n",
       "      <td>0.000000</td>\n",
       "    </tr>\n",
       "    <tr>\n",
       "      <th>0.5</th>\n",
       "      <td>0.000000</td>\n",
       "      <td>0.000000</td>\n",
       "      <td>0.000000</td>\n",
       "      <td>-4.488382</td>\n",
       "      <td>-4.488382</td>\n",
       "      <td>-4.488382</td>\n",
       "    </tr>\n",
       "    <tr>\n",
       "      <th>4320.0</th>\n",
       "      <td>0.000000</td>\n",
       "      <td>0.000000</td>\n",
       "      <td>0.000000</td>\n",
       "      <td>389.538137</td>\n",
       "      <td>389.538137</td>\n",
       "      <td>389.538137</td>\n",
       "    </tr>\n",
       "    <tr>\n",
       "      <th>5040.0</th>\n",
       "      <td>490.353289</td>\n",
       "      <td>490.353289</td>\n",
       "      <td>490.353289</td>\n",
       "      <td>783.564657</td>\n",
       "      <td>783.564657</td>\n",
       "      <td>783.564657</td>\n",
       "    </tr>\n",
       "    <tr>\n",
       "      <th>87684.5</th>\n",
       "      <td>490.353289</td>\n",
       "      <td>490.353289</td>\n",
       "      <td>490.353289</td>\n",
       "      <td>1177.591177</td>\n",
       "      <td>1177.591177</td>\n",
       "      <td>1177.591177</td>\n",
       "    </tr>\n",
       "    <tr>\n",
       "      <th>96450.5</th>\n",
       "      <td>490.353289</td>\n",
       "      <td>490.353289</td>\n",
       "      <td>490.353289</td>\n",
       "      <td>2956.047537</td>\n",
       "      <td>2956.047537</td>\n",
       "      <td>2956.047537</td>\n",
       "    </tr>\n",
       "  </tbody>\n",
       "</table>\n",
       "</div>"
      ],
      "text/plain": [
       "          migrating                             planting               \\\n",
       "              worst        mean        best        worst         mean   \n",
       "time                                                                    \n",
       "0.0        0.000000    0.000000    0.000000     0.000000     0.000000   \n",
       "0.5        0.000000    0.000000    0.000000    -4.488382    -4.488382   \n",
       "4320.0     0.000000    0.000000    0.000000   389.538137   389.538137   \n",
       "5040.0   490.353289  490.353289  490.353289   783.564657   783.564657   \n",
       "87684.5  490.353289  490.353289  490.353289  1177.591177  1177.591177   \n",
       "96450.5  490.353289  490.353289  490.353289  2956.047537  2956.047537   \n",
       "\n",
       "                      \n",
       "                best  \n",
       "time                  \n",
       "0.0         0.000000  \n",
       "0.5        -4.488382  \n",
       "4320.0    389.538137  \n",
       "5040.0    783.564657  \n",
       "87684.5  1177.591177  \n",
       "96450.5  2956.047537  "
      ]
     },
     "execution_count": 6,
     "metadata": {},
     "output_type": "execute_result"
    }
   ],
   "source": [
    "comparison = pd.concat({'planting': planting,\n",
    "           'migrating': migrating}, axis=1).interpolate()\n",
    "comparison"
   ]
  },
  {
   "cell_type": "markdown",
   "metadata": {},
   "source": [
    "The **time** axis is in hours, as well as **value** is in values of hours."
   ]
  },
  {
   "cell_type": "markdown",
   "metadata": {},
   "source": [
    "# Displaying for Humans"
   ]
  },
  {
   "cell_type": "code",
   "execution_count": 7,
   "metadata": {
    "collapsed": false
   },
   "outputs": [
    {
     "data": {
      "text/html": [
       "<div>\n",
       "<table border=\"1\" class=\"dataframe\">\n",
       "  <thead>\n",
       "    <tr>\n",
       "      <th></th>\n",
       "      <th colspan=\"3\" halign=\"left\">migrating</th>\n",
       "      <th colspan=\"3\" halign=\"left\">planting</th>\n",
       "    </tr>\n",
       "    <tr>\n",
       "      <th></th>\n",
       "      <th>worst</th>\n",
       "      <th>mean</th>\n",
       "      <th>best</th>\n",
       "      <th>worst</th>\n",
       "      <th>mean</th>\n",
       "      <th>best</th>\n",
       "    </tr>\n",
       "  </thead>\n",
       "  <tbody>\n",
       "    <tr>\n",
       "      <th>0 days 00:00:00</th>\n",
       "      <td>0.000000</td>\n",
       "      <td>0.000000</td>\n",
       "      <td>0.000000</td>\n",
       "      <td>0.000000</td>\n",
       "      <td>0.000000</td>\n",
       "      <td>0.000000</td>\n",
       "    </tr>\n",
       "    <tr>\n",
       "      <th>0 days 00:30:00</th>\n",
       "      <td>0.000000</td>\n",
       "      <td>0.000000</td>\n",
       "      <td>0.000000</td>\n",
       "      <td>-112.209559</td>\n",
       "      <td>-112.209559</td>\n",
       "      <td>-112.209559</td>\n",
       "    </tr>\n",
       "    <tr>\n",
       "      <th>180 days 00:00:00</th>\n",
       "      <td>0.000000</td>\n",
       "      <td>0.000000</td>\n",
       "      <td>0.000000</td>\n",
       "      <td>9738.453432</td>\n",
       "      <td>9738.453432</td>\n",
       "      <td>9738.453432</td>\n",
       "    </tr>\n",
       "    <tr>\n",
       "      <th>210 days 00:00:00</th>\n",
       "      <td>12258.832217</td>\n",
       "      <td>12258.832217</td>\n",
       "      <td>12258.832217</td>\n",
       "      <td>19589.116422</td>\n",
       "      <td>19589.116422</td>\n",
       "      <td>19589.116422</td>\n",
       "    </tr>\n",
       "    <tr>\n",
       "      <th>3653 days 12:30:00</th>\n",
       "      <td>12258.832217</td>\n",
       "      <td>12258.832217</td>\n",
       "      <td>12258.832217</td>\n",
       "      <td>29439.779413</td>\n",
       "      <td>29439.779413</td>\n",
       "      <td>29439.779413</td>\n",
       "    </tr>\n",
       "    <tr>\n",
       "      <th>4018 days 18:30:00</th>\n",
       "      <td>12258.832217</td>\n",
       "      <td>12258.832217</td>\n",
       "      <td>12258.832217</td>\n",
       "      <td>73901.188432</td>\n",
       "      <td>73901.188432</td>\n",
       "      <td>73901.188432</td>\n",
       "    </tr>\n",
       "  </tbody>\n",
       "</table>\n",
       "</div>"
      ],
      "text/plain": [
       "                       migrating                                  planting  \\\n",
       "                           worst          mean          best         worst   \n",
       "0 days 00:00:00         0.000000      0.000000      0.000000      0.000000   \n",
       "0 days 00:30:00         0.000000      0.000000      0.000000   -112.209559   \n",
       "180 days 00:00:00       0.000000      0.000000      0.000000   9738.453432   \n",
       "210 days 00:00:00   12258.832217  12258.832217  12258.832217  19589.116422   \n",
       "3653 days 12:30:00  12258.832217  12258.832217  12258.832217  29439.779413   \n",
       "4018 days 18:30:00  12258.832217  12258.832217  12258.832217  73901.188432   \n",
       "\n",
       "                                                \n",
       "                            mean          best  \n",
       "0 days 00:00:00         0.000000      0.000000  \n",
       "0 days 00:30:00      -112.209559   -112.209559  \n",
       "180 days 00:00:00    9738.453432   9738.453432  \n",
       "210 days 00:00:00   19589.116422  19589.116422  \n",
       "3653 days 12:30:00  29439.779413  29439.779413  \n",
       "4018 days 18:30:00  73901.188432  73901.188432  "
      ]
     },
     "execution_count": 7,
     "metadata": {},
     "output_type": "execute_result"
    }
   ],
   "source": [
    "plandf.utils.humanize(comparison)"
   ]
  },
  {
   "cell_type": "code",
   "execution_count": 8,
   "metadata": {
    "collapsed": false
   },
   "outputs": [
    {
     "name": "stdout",
     "output_type": "stream",
     "text": [
      "Populating the interactive namespace from numpy and matplotlib\n"
     ]
    },
    {
     "data": {
      "image/png": "[encoded data removed]",
      "text/plain": [
       "<matplotlib.figure.Figure at 0x7ff0bd7b9410>"
      ]
     },
     "metadata": {},
     "output_type": "display_data"
    }
   ],
   "source": [
    "%pylab inline\n",
    "plandf.utils.humanize(comparison).plot();"
   ]
  },
  {
   "cell_type": "markdown",
   "metadata": {},
   "source": [
    "This is a very informative table. Conclusion -- you could get more value in fruits by migration. "
   ]
  },
  {
   "cell_type": "markdown",
   "metadata": {},
   "source": [
    "# When scenarios differ:"
   ]
  },
  {
   "cell_type": "code",
   "execution_count": 9,
   "metadata": {
    "collapsed": true
   },
   "outputs": [],
   "source": [
    "growing_apples_and_oranges = [\n",
    "\n",
    "    ('extracting seeds: 1; time: 0.5~2@1h; oranges: 15~30@1.3~2cny; apples: 20~40@500~600jpy',   \n",
    "        'orange seeds: 200~250; apple seeds: 150~200@0.15~0.3usd'),\n",
    "\n",
    "    ('planting field: 1; time: 2000~3653.5@24h; day of labor: 1~2; years of care: 7~10',\n",
    "         'orange trees: 50~60@150~200usd; apple trees: 100~150@200~300eur'),\n",
    "\n",
    "    ('waiting (for crops to grow): 1; time: 365.25~390@24h; years of waiting: 1~1.2',\n",
    "         'oranges: 5000~6000@1.3~2cny; apples: 10000@500~600jpy')\n",
    "]\n",
    "\n",
    "migrating_to_warmer_latitude = [\n",
    "    ('time: 6@720h; months of waiting: 6',\n",
    "         'for right conditions to travel: 1; ability to survive a 30 day travel: 1'),\n",
    "\n",
    "    ('time: 30@24h; days travelling: 30',\n",
    "         'bananas: 10000@0.25~3usd; apples: 0@500~600jpy; oranges: 50000@1.3~2cny')\n",
    "]"
   ]
  },
  {
   "cell_type": "markdown",
   "metadata": {},
   "source": [
    "Note, we didn't have more scenarios, but if we added our uncertainty, such as"
   ]
  },
  {
   "cell_type": "code",
   "execution_count": 10,
   "metadata": {
    "collapsed": true
   },
   "outputs": [],
   "source": [
    "plant = plandf.read(growing_apples_and_oranges, conversion_rates)"
   ]
  },
  {
   "cell_type": "code",
   "execution_count": 11,
   "metadata": {
    "collapsed": false
   },
   "outputs": [
    {
     "data": {
      "text/plain": [
       "<matplotlib.axes._subplots.AxesSubplot at 0x7ff0bd6586d0>"
      ]
     },
     "execution_count": 11,
     "metadata": {},
     "output_type": "execute_result"
    },
    {
     "data": {
      "image/png": "[encoded data removed]",
      "text/plain": [
       "<matplotlib.figure.Figure at 0x7ff0bd658090>"
      ]
     },
     "metadata": {},
     "output_type": "display_data"
    }
   ],
   "source": [
    "plandf.utils.humanize(plant).plot(title='Value in (USD)')"
   ]
  },
  {
   "cell_type": "code",
   "execution_count": 12,
   "metadata": {
    "collapsed": true
   },
   "outputs": [],
   "source": [
    "migrate = plandf.read(migrating_to_warmer_latitude, conversion_rates)"
   ]
  },
  {
   "cell_type": "code",
   "execution_count": 13,
   "metadata": {
    "collapsed": false
   },
   "outputs": [
    {
     "data": {
      "text/plain": [
       "<matplotlib.axes._subplots.AxesSubplot at 0x7ff0bd7cefd0>"
      ]
     },
     "execution_count": 13,
     "metadata": {},
     "output_type": "execute_result"
    },
    {
     "data": {
      "image/png": "[encoded data removed]",
      "text/plain": [
       "<matplotlib.figure.Figure at 0x7ff0c0b18b90>"
      ]
     },
     "metadata": {},
     "output_type": "display_data"
    }
   ],
   "source": [
    "plandf.utils.humanize(migrate).plot(title='Value in (USD)')"
   ]
  },
  {
   "cell_type": "code",
   "execution_count": 14,
   "metadata": {
    "collapsed": true
   },
   "outputs": [],
   "source": [
    "compare = pd.concat({'plant': plant,\n",
    "           'migrate': migrate}, axis=1).interpolate()"
   ]
  },
  {
   "cell_type": "code",
   "execution_count": 15,
   "metadata": {
    "collapsed": false
   },
   "outputs": [
    {
     "data": {
      "text/html": [
       "<div>\n",
       "<table border=\"1\" class=\"dataframe\">\n",
       "  <thead>\n",
       "    <tr>\n",
       "      <th></th>\n",
       "      <th colspan=\"3\" halign=\"left\">migrate</th>\n",
       "      <th colspan=\"3\" halign=\"left\">plant</th>\n",
       "    </tr>\n",
       "    <tr>\n",
       "      <th></th>\n",
       "      <th>worst</th>\n",
       "      <th>mean</th>\n",
       "      <th>best</th>\n",
       "      <th>worst</th>\n",
       "      <th>mean</th>\n",
       "      <th>best</th>\n",
       "    </tr>\n",
       "    <tr>\n",
       "      <th>time</th>\n",
       "      <th></th>\n",
       "      <th></th>\n",
       "      <th></th>\n",
       "      <th></th>\n",
       "      <th></th>\n",
       "      <th></th>\n",
       "    </tr>\n",
       "  </thead>\n",
       "  <tbody>\n",
       "    <tr>\n",
       "      <th>0.00</th>\n",
       "      <td>0.000000</td>\n",
       "      <td>0.000000</td>\n",
       "      <td>0.000000</td>\n",
       "      <td>0.000000</td>\n",
       "      <td>0.000000</td>\n",
       "      <td>0.000000</td>\n",
       "    </tr>\n",
       "    <tr>\n",
       "      <th>0.50</th>\n",
       "      <td>0.000000</td>\n",
       "      <td>0.000000</td>\n",
       "      <td>0.000000</td>\n",
       "      <td>-2.608017</td>\n",
       "      <td>-2.206302</td>\n",
       "      <td>-1.232967</td>\n",
       "    </tr>\n",
       "    <tr>\n",
       "      <th>1.25</th>\n",
       "      <td>0.000000</td>\n",
       "      <td>0.000000</td>\n",
       "      <td>0.000000</td>\n",
       "      <td>-5.216035</td>\n",
       "      <td>-4.412604</td>\n",
       "      <td>821.325127</td>\n",
       "    </tr>\n",
       "    <tr>\n",
       "      <th>2.00</th>\n",
       "      <td>0.000000</td>\n",
       "      <td>0.000000</td>\n",
       "      <td>0.000000</td>\n",
       "      <td>-7.824052</td>\n",
       "      <td>436.721331</td>\n",
       "      <td>1643.883221</td>\n",
       "    </tr>\n",
       "    <tr>\n",
       "      <th>4320.00</th>\n",
       "      <td>0.000000</td>\n",
       "      <td>0.000000</td>\n",
       "      <td>0.000000</td>\n",
       "      <td>70.981252</td>\n",
       "      <td>583.765977</td>\n",
       "      <td>1918.069252</td>\n",
       "    </tr>\n",
       "    <tr>\n",
       "      <th>5040.00</th>\n",
       "      <td>490.353289</td>\n",
       "      <td>1137.413746</td>\n",
       "      <td>1784.474202</td>\n",
       "      <td>149.786556</td>\n",
       "      <td>730.810622</td>\n",
       "      <td>2192.255283</td>\n",
       "    </tr>\n",
       "    <tr>\n",
       "      <th>48000.50</th>\n",
       "      <td>490.353289</td>\n",
       "      <td>1137.413746</td>\n",
       "      <td>1784.474202</td>\n",
       "      <td>228.591860</td>\n",
       "      <td>877.855267</td>\n",
       "      <td>2466.441315</td>\n",
       "    </tr>\n",
       "    <tr>\n",
       "      <th>56766.50</th>\n",
       "      <td>490.353289</td>\n",
       "      <td>1137.413746</td>\n",
       "      <td>1784.474202</td>\n",
       "      <td>465.007772</td>\n",
       "      <td>1318.989203</td>\n",
       "      <td>4625.911027</td>\n",
       "    </tr>\n",
       "    <tr>\n",
       "      <th>67843.25</th>\n",
       "      <td>490.353289</td>\n",
       "      <td>1137.413746</td>\n",
       "      <td>1784.474202</td>\n",
       "      <td>701.423683</td>\n",
       "      <td>1760.123138</td>\n",
       "      <td>4625.911027</td>\n",
       "    </tr>\n",
       "    <tr>\n",
       "      <th>76906.25</th>\n",
       "      <td>490.353289</td>\n",
       "      <td>1137.413746</td>\n",
       "      <td>1784.474202</td>\n",
       "      <td>937.839595</td>\n",
       "      <td>3728.031088</td>\n",
       "      <td>4625.911027</td>\n",
       "    </tr>\n",
       "    <tr>\n",
       "      <th>87686.00</th>\n",
       "      <td>490.353289</td>\n",
       "      <td>1137.413746</td>\n",
       "      <td>1784.474202</td>\n",
       "      <td>1174.255507</td>\n",
       "      <td>3728.031088</td>\n",
       "      <td>4625.911027</td>\n",
       "    </tr>\n",
       "    <tr>\n",
       "      <th>97046.00</th>\n",
       "      <td>490.353289</td>\n",
       "      <td>1137.413746</td>\n",
       "      <td>1784.474202</td>\n",
       "      <td>2952.711868</td>\n",
       "      <td>3728.031088</td>\n",
       "      <td>4625.911027</td>\n",
       "    </tr>\n",
       "  </tbody>\n",
       "</table>\n",
       "</div>"
      ],
      "text/plain": [
       "             migrate                                  plant               \\\n",
       "               worst         mean         best        worst         mean   \n",
       "time                                                                       \n",
       "0.00        0.000000     0.000000     0.000000     0.000000     0.000000   \n",
       "0.50        0.000000     0.000000     0.000000    -2.608017    -2.206302   \n",
       "1.25        0.000000     0.000000     0.000000    -5.216035    -4.412604   \n",
       "2.00        0.000000     0.000000     0.000000    -7.824052   436.721331   \n",
       "4320.00     0.000000     0.000000     0.000000    70.981252   583.765977   \n",
       "5040.00   490.353289  1137.413746  1784.474202   149.786556   730.810622   \n",
       "48000.50  490.353289  1137.413746  1784.474202   228.591860   877.855267   \n",
       "56766.50  490.353289  1137.413746  1784.474202   465.007772  1318.989203   \n",
       "67843.25  490.353289  1137.413746  1784.474202   701.423683  1760.123138   \n",
       "76906.25  490.353289  1137.413746  1784.474202   937.839595  3728.031088   \n",
       "87686.00  490.353289  1137.413746  1784.474202  1174.255507  3728.031088   \n",
       "97046.00  490.353289  1137.413746  1784.474202  2952.711868  3728.031088   \n",
       "\n",
       "                       \n",
       "                 best  \n",
       "time                   \n",
       "0.00         0.000000  \n",
       "0.50        -1.232967  \n",
       "1.25       821.325127  \n",
       "2.00      1643.883221  \n",
       "4320.00   1918.069252  \n",
       "5040.00   2192.255283  \n",
       "48000.50  2466.441315  \n",
       "56766.50  4625.911027  \n",
       "67843.25  4625.911027  \n",
       "76906.25  4625.911027  \n",
       "87686.00  4625.911027  \n",
       "97046.00  4625.911027  "
      ]
     },
     "execution_count": 15,
     "metadata": {},
     "output_type": "execute_result"
    }
   ],
   "source": [
    "compare"
   ]
  },
  {
   "cell_type": "code",
   "execution_count": 16,
   "metadata": {
    "collapsed": false
   },
   "outputs": [
    {
     "data": {
      "text/html": [
       "<div>\n",
       "<table border=\"1\" class=\"dataframe\">\n",
       "  <thead>\n",
       "    <tr>\n",
       "      <th></th>\n",
       "      <th colspan=\"3\" halign=\"left\">migrate</th>\n",
       "      <th colspan=\"3\" halign=\"left\">plant</th>\n",
       "    </tr>\n",
       "    <tr>\n",
       "      <th></th>\n",
       "      <th>worst</th>\n",
       "      <th>mean</th>\n",
       "      <th>best</th>\n",
       "      <th>worst</th>\n",
       "      <th>mean</th>\n",
       "      <th>best</th>\n",
       "    </tr>\n",
       "  </thead>\n",
       "  <tbody>\n",
       "    <tr>\n",
       "      <th>0 days 00:00:00</th>\n",
       "      <td>0.000000</td>\n",
       "      <td>0.000000</td>\n",
       "      <td>0.000000</td>\n",
       "      <td>0.000000</td>\n",
       "      <td>0.000000</td>\n",
       "      <td>0.000000</td>\n",
       "    </tr>\n",
       "    <tr>\n",
       "      <th>0 days 00:30:00</th>\n",
       "      <td>0.000000</td>\n",
       "      <td>0.000000</td>\n",
       "      <td>0.000000</td>\n",
       "      <td>-65.200433</td>\n",
       "      <td>-55.157553</td>\n",
       "      <td>-30.824164</td>\n",
       "    </tr>\n",
       "    <tr>\n",
       "      <th>0 days 01:15:00</th>\n",
       "      <td>0.000000</td>\n",
       "      <td>0.000000</td>\n",
       "      <td>0.000000</td>\n",
       "      <td>-130.400866</td>\n",
       "      <td>-110.315105</td>\n",
       "      <td>20533.128179</td>\n",
       "    </tr>\n",
       "    <tr>\n",
       "      <th>0 days 02:00:00</th>\n",
       "      <td>0.000000</td>\n",
       "      <td>0.000000</td>\n",
       "      <td>0.000000</td>\n",
       "      <td>-195.601300</td>\n",
       "      <td>10918.033285</td>\n",
       "      <td>41097.080523</td>\n",
       "    </tr>\n",
       "    <tr>\n",
       "      <th>180 days 00:00:00</th>\n",
       "      <td>0.000000</td>\n",
       "      <td>0.000000</td>\n",
       "      <td>0.000000</td>\n",
       "      <td>1774.531298</td>\n",
       "      <td>14594.149415</td>\n",
       "      <td>47951.731304</td>\n",
       "    </tr>\n",
       "    <tr>\n",
       "      <th>210 days 00:00:00</th>\n",
       "      <td>12258.832217</td>\n",
       "      <td>28435.343639</td>\n",
       "      <td>44611.855061</td>\n",
       "      <td>3744.663897</td>\n",
       "      <td>18270.265545</td>\n",
       "      <td>54806.382085</td>\n",
       "    </tr>\n",
       "    <tr>\n",
       "      <th>2000 days 00:30:00</th>\n",
       "      <td>12258.832217</td>\n",
       "      <td>28435.343639</td>\n",
       "      <td>44611.855061</td>\n",
       "      <td>5714.796495</td>\n",
       "      <td>21946.381675</td>\n",
       "      <td>61661.032866</td>\n",
       "    </tr>\n",
       "    <tr>\n",
       "      <th>2365 days 06:30:00</th>\n",
       "      <td>12258.832217</td>\n",
       "      <td>28435.343639</td>\n",
       "      <td>44611.855061</td>\n",
       "      <td>11625.194289</td>\n",
       "      <td>32974.730065</td>\n",
       "      <td>115647.775678</td>\n",
       "    </tr>\n",
       "    <tr>\n",
       "      <th>2826 days 19:15:00</th>\n",
       "      <td>12258.832217</td>\n",
       "      <td>28435.343639</td>\n",
       "      <td>44611.855061</td>\n",
       "      <td>17535.592083</td>\n",
       "      <td>44003.078455</td>\n",
       "      <td>115647.775678</td>\n",
       "    </tr>\n",
       "    <tr>\n",
       "      <th>3204 days 10:15:00</th>\n",
       "      <td>12258.832217</td>\n",
       "      <td>28435.343639</td>\n",
       "      <td>44611.855061</td>\n",
       "      <td>23445.989878</td>\n",
       "      <td>93200.777205</td>\n",
       "      <td>115647.775678</td>\n",
       "    </tr>\n",
       "    <tr>\n",
       "      <th>3653 days 14:00:00</th>\n",
       "      <td>12258.832217</td>\n",
       "      <td>28435.343639</td>\n",
       "      <td>44611.855061</td>\n",
       "      <td>29356.387672</td>\n",
       "      <td>93200.777205</td>\n",
       "      <td>115647.775678</td>\n",
       "    </tr>\n",
       "    <tr>\n",
       "      <th>4043 days 14:00:00</th>\n",
       "      <td>12258.832217</td>\n",
       "      <td>28435.343639</td>\n",
       "      <td>44611.855061</td>\n",
       "      <td>73817.796692</td>\n",
       "      <td>93200.777205</td>\n",
       "      <td>115647.775678</td>\n",
       "    </tr>\n",
       "  </tbody>\n",
       "</table>\n",
       "</div>"
      ],
      "text/plain": [
       "                         migrate                                     plant  \\\n",
       "                           worst          mean          best         worst   \n",
       "0 days 00:00:00         0.000000      0.000000      0.000000      0.000000   \n",
       "0 days 00:30:00         0.000000      0.000000      0.000000    -65.200433   \n",
       "0 days 01:15:00         0.000000      0.000000      0.000000   -130.400866   \n",
       "0 days 02:00:00         0.000000      0.000000      0.000000   -195.601300   \n",
       "180 days 00:00:00       0.000000      0.000000      0.000000   1774.531298   \n",
       "210 days 00:00:00   12258.832217  28435.343639  44611.855061   3744.663897   \n",
       "2000 days 00:30:00  12258.832217  28435.343639  44611.855061   5714.796495   \n",
       "2365 days 06:30:00  12258.832217  28435.343639  44611.855061  11625.194289   \n",
       "2826 days 19:15:00  12258.832217  28435.343639  44611.855061  17535.592083   \n",
       "3204 days 10:15:00  12258.832217  28435.343639  44611.855061  23445.989878   \n",
       "3653 days 14:00:00  12258.832217  28435.343639  44611.855061  29356.387672   \n",
       "4043 days 14:00:00  12258.832217  28435.343639  44611.855061  73817.796692   \n",
       "\n",
       "                                                 \n",
       "                            mean           best  \n",
       "0 days 00:00:00         0.000000       0.000000  \n",
       "0 days 00:30:00       -55.157553     -30.824164  \n",
       "0 days 01:15:00      -110.315105   20533.128179  \n",
       "0 days 02:00:00     10918.033285   41097.080523  \n",
       "180 days 00:00:00   14594.149415   47951.731304  \n",
       "210 days 00:00:00   18270.265545   54806.382085  \n",
       "2000 days 00:30:00  21946.381675   61661.032866  \n",
       "2365 days 06:30:00  32974.730065  115647.775678  \n",
       "2826 days 19:15:00  44003.078455  115647.775678  \n",
       "3204 days 10:15:00  93200.777205  115647.775678  \n",
       "3653 days 14:00:00  93200.777205  115647.775678  \n",
       "4043 days 14:00:00  93200.777205  115647.775678  "
      ]
     },
     "execution_count": 16,
     "metadata": {},
     "output_type": "execute_result"
    }
   ],
   "source": [
    "plandf.utils.humanize(compare)"
   ]
  },
  {
   "cell_type": "code",
   "execution_count": 17,
   "metadata": {
    "collapsed": false
   },
   "outputs": [
    {
     "data": {
      "text/plain": [
       "<matplotlib.axes._subplots.AxesSubplot at 0x7ff0bd768850>"
      ]
     },
     "execution_count": 17,
     "metadata": {},
     "output_type": "execute_result"
    },
    {
     "data": {
      "image/png": "[encoded data removed]",
      "text/plain": [
       "<matplotlib.figure.Figure at 0x7ff0bd7b9990>"
      ]
     },
     "metadata": {},
     "output_type": "display_data"
    }
   ],
   "source": [
    "plandf.utils.humanize(compare).plot()"
   ]
  },
  {
   "cell_type": "code",
   "execution_count": null,
   "metadata": {
    "collapsed": true
   },
   "outputs": [],
   "source": []
  }
 ],
 "metadata": {
  "kernelspec": {
   "display_name": "Python 2",
   "language": "python2",
   "name": "python2"
  },
  "language_info": {
   "codemirror_mode": {
    "name": "ipython",
    "version": 2
   },
   "file_extension": ".py",
   "mimetype": "text/x-python",
   "name": "python",
   "nbconvert_exporter": "python",
   "pygments_lexer": "ipython2",
   "version": "2.7.11"
  }
 },
 "nbformat": 4,
 "nbformat_minor": 0
}
